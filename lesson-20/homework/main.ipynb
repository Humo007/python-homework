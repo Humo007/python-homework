{
 "cells": [
  {
   "cell_type": "markdown",
   "id": "677c1739",
   "metadata": {},
   "source": [
    "##Homework 1:\n",
    "\n",
    "Using chinook.db write pandas code."
   ]
  },
  {
   "cell_type": "code",
   "execution_count": 38,
   "id": "b3ed0d52",
   "metadata": {},
   "outputs": [],
   "source": [
    "import sqlite3 \n",
    "import pandas as pd\n",
    "\n"
   ]
  },
  {
   "cell_type": "code",
   "execution_count": 39,
   "id": "378e77fa",
   "metadata": {},
   "outputs": [
    {
     "data": {
      "text/html": [
       "<div>\n",
       "<style scoped>\n",
       "    .dataframe tbody tr th:only-of-type {\n",
       "        vertical-align: middle;\n",
       "    }\n",
       "\n",
       "    .dataframe tbody tr th {\n",
       "        vertical-align: top;\n",
       "    }\n",
       "\n",
       "    .dataframe thead th {\n",
       "        text-align: right;\n",
       "    }\n",
       "</style>\n",
       "<table border=\"1\" class=\"dataframe\">\n",
       "  <thead>\n",
       "    <tr style=\"text-align: right;\">\n",
       "      <th></th>\n",
       "      <th>CustomerId</th>\n",
       "      <th>FullName</th>\n",
       "      <th>Total</th>\n",
       "    </tr>\n",
       "  </thead>\n",
       "  <tbody>\n",
       "    <tr>\n",
       "      <th>5</th>\n",
       "      <td>6</td>\n",
       "      <td>Helena Holý</td>\n",
       "      <td>49.62</td>\n",
       "    </tr>\n",
       "    <tr>\n",
       "      <th>25</th>\n",
       "      <td>26</td>\n",
       "      <td>Richard Cunningham</td>\n",
       "      <td>47.62</td>\n",
       "    </tr>\n",
       "    <tr>\n",
       "      <th>56</th>\n",
       "      <td>57</td>\n",
       "      <td>Luis Rojas</td>\n",
       "      <td>46.62</td>\n",
       "    </tr>\n",
       "    <tr>\n",
       "      <th>44</th>\n",
       "      <td>45</td>\n",
       "      <td>Ladislav Kovács</td>\n",
       "      <td>45.62</td>\n",
       "    </tr>\n",
       "    <tr>\n",
       "      <th>45</th>\n",
       "      <td>46</td>\n",
       "      <td>Hugh O'Reilly</td>\n",
       "      <td>45.62</td>\n",
       "    </tr>\n",
       "  </tbody>\n",
       "</table>\n",
       "</div>"
      ],
      "text/plain": [
       "    CustomerId            FullName  Total\n",
       "5            6         Helena Holý  49.62\n",
       "25          26  Richard Cunningham  47.62\n",
       "56          57          Luis Rojas  46.62\n",
       "44          45     Ladislav Kovács  45.62\n",
       "45          46       Hugh O'Reilly  45.62"
      ]
     },
     "execution_count": 39,
     "metadata": {},
     "output_type": "execute_result"
    }
   ],
   "source": [
    "# 1. Customer Purchases Analysis:\n",
    "# Find the total amount spent by each customer on purchases (considering invoices).\n",
    "conn = sqlite3.connect('Chinook_Sqlite.sqlite')\n",
    "customers = pd.read_sql_query(\"SELECT * FROM Customer\", conn)\n",
    "invoices = pd.read_sql_query(\"SELECT * FROM Invoice\", conn)\n",
    "\n",
    "total_spend = invoices.groupby(\"CustomerId\")['Total'].sum().reset_index()\n",
    "result = pd.merge(total_spend, customers, on=\"CustomerId\")\n",
    "result\n",
    "# Identify the top 5 customers with the highest total purchase amounts.\n",
    "top_five_highest_total_amounts = result.sort_values(by= 'Total', ascending=False).head(5)\n",
    "top_five_highest_total_amounts\n",
    "\n",
    "# Display the customer ID, name, and the total amount spent for the top 5 customers.\n",
    "result['FullName'] = result['FirstName'] + \" \" + result['LastName']\n",
    "result = result[['CustomerId', 'FullName', 'Total']].sort_values(by='Total', ascending=False).head(5)\n",
    "result\n"
   ]
  },
  {
   "cell_type": "code",
   "execution_count": 43,
   "id": "2ebff7f9",
   "metadata": {},
   "outputs": [
    {
     "name": "stdout",
     "output_type": "stream",
     "text": [
      "📊 Percentage of customers who prefer individual tracks: 64.41%\n",
      "📊 Percentage of customers who prefer individual tracks (never vought a full album): 64.41%\n",
      "\n",
      "Summary: \n",
      "📊 Full album buyers (at least once):  35.59%\n"
     ]
    }
   ],
   "source": [
    "# 2. Album vs. Individual Track Purchases:\n",
    "album = pd.read_sql_query(\"SELECT * FROM Album\", conn)\n",
    "album.head()\n",
    "invoices_line = pd.read_sql_query(\"SELECT *FROM InvoiceLine\", conn)\n",
    "invoices_line.head()\n",
    "tracks = pd.read_sql_query(\"SELECT *FROM Track\", conn)\n",
    "tracks.head()\n",
    "merge = pd.merge(invoices_line, tracks, on=\"TrackId\")\n",
    "merge\n",
    "\n",
    "album_track_counts = tracks.groupby(\"AlbumId\")['TrackId'].count().reset_index()\n",
    "album_track_counts.columns = [\"AlbumId\", \"TotalTracksInAlbum\"]\n",
    "album_track_counts\n",
    "\n",
    "invoice_album_group = merge.groupby(['InvoiceId',\"AlbumId\"])['TrackId'].count().reset_index()\n",
    "invoice_album_group.columns = ['InvoiceId',\"AlbumId\", \"TracksBought\"]\n",
    "\n",
    "joined = pd.merge(invoice_album_group, album_track_counts, on=\"AlbumId\")\n",
    "joined['IsFullAlbum'] = joined['TracksBought'] == joined['TotalTracksInAlbum']\n",
    "\n",
    "invoices = pd.read_sql_query(\"SELECT InvoiceId, CustomerId FROM Invoice\", conn)\n",
    "joined = pd.merge(joined, invoices, on=\"InvoiceId\") \n",
    "\n",
    "# Determine the percentage of customers who prefer to buy individual tracks instead of full albums.\n",
    "customer_album_pref = joined.groupby(\"CustomerId\")['IsFullAlbum'].any().reset_index()\n",
    "customer_album_pref\n",
    "\n",
    "individual_buyers = customer_album_pref[customer_album_pref['IsFullAlbum'] == False]\n",
    "percentage_individual = (len(individual_buyers) / len(customer_album_pref)) * 100\n",
    "print(f\"📊 Percentage of customers who prefer individual tracks: {percentage_individual:.2f}%\")\n",
    "\n",
    "# A customer is considered to prefer individual tracks if they have purchased only a subset of tracks from an album.\n",
    "total_customers = customer_album_pref.shape[0]\n",
    "num_individual_only = individual_buyers.shape[0]\n",
    "percentage = (num_individual_only / total_customers)*100\n",
    "print(f\"📊 Percentage of customers who prefer individual tracks (never vought a full album): {percentage:.2f}%\")\n",
    "# Provide a summary of the percentage of customers who fall into each category (individual tracks vs. full albums).\n",
    "percentage_full_album = 100 - percentage\n",
    "print(f\"\\nSummary: \")\n",
    "print(f\"📊 Full album buyers (at least once): {percentage_full_album: .2f}%\")\n"
   ]
  }
 ],
 "metadata": {
  "kernelspec": {
   "display_name": "Python 3",
   "language": "python",
   "name": "python3"
  },
  "language_info": {
   "codemirror_mode": {
    "name": "ipython",
    "version": 3
   },
   "file_extension": ".py",
   "mimetype": "text/x-python",
   "name": "python",
   "nbconvert_exporter": "python",
   "pygments_lexer": "ipython3",
   "version": "3.13.2"
  }
 },
 "nbformat": 4,
 "nbformat_minor": 5
}
