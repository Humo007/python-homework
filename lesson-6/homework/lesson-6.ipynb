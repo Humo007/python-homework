{
 "cells": [
  {
   "cell_type": "markdown",
   "metadata": {},
   "source": [
    "Homeworks"
   ]
  },
  {
   "cell_type": "code",
   "execution_count": null,
   "metadata": {},
   "outputs": [],
   "source": [
    "# 1. Modify String with Underscores\n",
    "# Given a string txt, insert an underscore (_) after every third character. \n",
    "# If a character is a vowel or already has an underscore after it, shift the underscore placement to the next character. \n",
    "# No underscore should be added at the end.\n"
   ]
  },
  {
   "cell_type": "code",
   "execution_count": 57,
   "metadata": {},
   "outputs": [
    {
     "name": "stdout",
     "output_type": "stream",
     "text": [
      "hee_llo_ wo_rld\n"
     ]
    }
   ],
   "source": [
    "def addunderscores(text : str):\n",
    "    vowels = 'aoueiAOUEI'\n",
    "    newtext = []\n",
    "    cnt = 0\n",
    "    i = 0\n",
    "    while i < len(text):\n",
    "        newtext.append(text[i])\n",
    "        cnt += 1\n",
    "        if cnt % 3 == 0 and i + 1 < len(text):\n",
    "            j = i + 1\n",
    "            while j < len(text) and (text[j] in vowels or text[j] == '_'):\n",
    "                j += 1\n",
    "            if j < len(text):\n",
    "                newtext.append(\"_\")\n",
    "                cnt = 0\n",
    "\n",
    "        i += 1\n",
    "    return \"\".join(newtext)\n",
    "\n",
    "text = input(\"Enter the text: \")\n",
    "print(addunderscores(text))\n",
    "\n"
   ]
  },
  {
   "cell_type": "code",
   "execution_count": 68,
   "metadata": {},
   "outputs": [],
   "source": [
    "# 2. Integer Squares Exercise\n",
    "# Task\n",
    "# The provided code stub reads an integer, n, from STDIN. For all non-negative integers i where 0 <= i < n, print i^2.\n",
    "def PrintSquares(n: int):\n",
    "  for i in range(n):\n",
    "    print(i ** 2)\n",
    "\n",
    "number = int(input(\"Enter the number: \"))\n",
    "PrintSquares(number)\n"
   ]
  },
  {
   "cell_type": "code",
   "execution_count": 121,
   "metadata": {},
   "outputs": [
    {
     "name": "stdout",
     "output_type": "stream",
     "text": [
      "0\n",
      "1\n",
      "2\n",
      "3\n",
      "4\n",
      "5\n",
      "6\n",
      "7\n",
      "8\n",
      "9\n",
      "1 \n",
      "1 2 \n",
      "1 2 3 \n",
      "1 2 3 4 \n",
      "1 2 3 4 5 \n",
      "\n",
      "1 \n",
      "1 2 \n",
      "1 2 3 \n",
      "1 2 3 4 \n",
      "1 2 3 4 5 \n"
     ]
    }
   ],
   "source": [
    "# 3. Loop-Based Exercises\n",
    "# Exercise 1: Print first 10 natural numbers using a while loop\n",
    "\n",
    "cnt = 0\n",
    "while cnt < 10:\n",
    "    print(cnt)\n",
    "    cnt += 1\n",
    "# Exercise 2: Print the following pattern\n",
    "for i in range(1, 6):\n",
    "    for j in range(1, i + 1):\n",
    "        print(j, end=' ')\n",
    "    print()\n",
    "\n",
    "n = 5\n",
    "i = 0\n",
    "while i <= n:\n",
    "    j = 1 \n",
    "    while j <= i:\n",
    "        print(j, end=' ')\n",
    "        j += 1\n",
    "    print()\n",
    "    i += 1\n"
   ]
  },
  {
   "cell_type": "code",
   "execution_count": 90,
   "metadata": {},
   "outputs": [
    {
     "name": "stdout",
     "output_type": "stream",
     "text": [
      "55\n"
     ]
    }
   ],
   "source": [
    "# Exercise 3: Calculate sum of all numbers from 1 to a given number\n",
    "def printsum(number : int):\n",
    "    sum = 0\n",
    "    for i in range(1, number + 1):\n",
    "        sum += i\n",
    "    return sum\n",
    "n = int(input(\"Enter the number: \"))\n",
    "print(printsum(n))\n",
    "\n"
   ]
  },
  {
   "cell_type": "code",
   "execution_count": 116,
   "metadata": {},
   "outputs": [
    {
     "name": "stdout",
     "output_type": "stream",
     "text": [
      "9 x 0 = 0\n",
      "9 x 1 = 9\n",
      "9 x 2 = 18\n",
      "9 x 3 = 27\n",
      "9 x 4 = 36\n",
      "9 x 5 = 45\n",
      "9 x 6 = 54\n",
      "9 x 7 = 63\n",
      "9 x 8 = 72\n",
      "9 x 9 = 81\n",
      "9 x 10 = 90\n"
     ]
    }
   ],
   "source": [
    "# Exercise 4: Print multiplication table of a given number\n",
    "def multiplication_table(n: int):\n",
    "    # limit = 10\n",
    "    \n",
    "    # for i in range(limit + 1):\n",
    "    #     print(f\"{i} x {n} = {i * n}\")\n",
    "    c = 0\n",
    "    while n *c <= n *10 :\n",
    "        print(f\"{n} x {c} = {c * n}\")\n",
    "        c += 1\n",
    "\n",
    "num = int(input(\"Enter the number: \"))\n",
    "(multiplication_table(num))"
   ]
  },
  {
   "cell_type": "code",
   "execution_count": 119,
   "metadata": {},
   "outputs": [
    {
     "name": "stdout",
     "output_type": "stream",
     "text": [
      "75\n",
      "150\n",
      "145\n"
     ]
    }
   ],
   "source": [
    "# Exercise 5: Display numbers from a list using a loop\n",
    "\n",
    "numbers = [12, 75, 150, 180, 145, 525, 50]\n",
    "for i in numbers:\n",
    "    if i % 5 == 0 and i <= 150 and i > 50:\n",
    "        print(i)"
   ]
  },
  {
   "cell_type": "code",
   "execution_count": 123,
   "metadata": {},
   "outputs": [
    {
     "name": "stdout",
     "output_type": "stream",
     "text": [
      "1\n"
     ]
    }
   ],
   "source": [
    "# Exercise 6: Count the total number of digits in a number\n",
    "def CountNumber(num:int):\n",
    "    num = str(num)\n",
    "    count = 0\n",
    "    for i in num:\n",
    "        count += 1\n",
    "    return count\n",
    "print(CountNumber(int(input('Enter the numer: ')))) "
   ]
  },
  {
   "cell_type": "code",
   "execution_count": 134,
   "metadata": {},
   "outputs": [],
   "source": [
    "n = 1\n",
    "i = 5\n",
    "while i < 5:\n",
    "    j = 0\n",
    "    while j <= i:\n",
    "        print(j, end=' ')\n",
    "        j -= 1\n",
    "    print()\n",
    "    i -=1\n",
    "\n",
    "\n"
   ]
  },
  {
   "cell_type": "code",
   "execution_count": 175,
   "metadata": {},
   "outputs": [
    {
     "name": "stdout",
     "output_type": "stream",
     "text": [
      "5 4 3 2 1 \n",
      "4 3 2 1 \n",
      "3 2 1 \n",
      "2 1 \n",
      "1 \n"
     ]
    }
   ],
   "source": [
    "n = 5\n",
    "for i in  range(n, 0, -1):\n",
    "    for j in range(i, 0 , -1):\n",
    "        print(j, end=' ')\n",
    "    print()"
   ]
  },
  {
   "cell_type": "code",
   "execution_count": 155,
   "metadata": {},
   "outputs": [
    {
     "name": "stdout",
     "output_type": "stream",
     "text": [
      "5 4 3 2 1 \n",
      "4 3 2 1 \n",
      "3 2 1 \n",
      "2 1 \n",
      "1 \n"
     ]
    }
   ],
   "source": [
    "b = 0\n",
    "while b < 5:\n",
    "    a = 5 - b\n",
    "    while a > 0:\n",
    "        print(a,end=' ')\n",
    "        a -=1\n",
    "    print()\n",
    "    b = b + 1"
   ]
  },
  {
   "cell_type": "code",
   "execution_count": null,
   "metadata": {},
   "outputs": [
    {
     "name": "stdout",
     "output_type": "stream",
     "text": [
      "50\n",
      "40\n",
      "30\n",
      "20\n",
      "10\n",
      "50\n",
      "40\n",
      "30\n",
      "20\n",
      "10\n",
      "50\n",
      "40\n",
      "30\n",
      "20\n",
      "10\n"
     ]
    }
   ],
   "source": [
    "# Exercise 8: Print list in reverse order using a loop\n",
    "list1 = [10, 20, 30, 40, 50]\n",
    "\n",
    "for i in reversed(list1):\n",
    "    print(i)\n",
    "\n",
    "for i in range(len(list1)-1, -1, -1):\n",
    "    print(list1[i])\n",
    "\n",
    "\n",
    "\n",
    "i = len(list1)-1\n",
    "while i >= 0:\n",
    "    print(list1[i])\n",
    "    i -= 1"
   ]
  },
  {
   "cell_type": "code",
   "execution_count": 191,
   "metadata": {},
   "outputs": [
    {
     "name": "stdout",
     "output_type": "stream",
     "text": [
      "-10\n",
      "-9\n",
      "-8\n",
      "-7\n",
      "-6\n",
      "-5\n",
      "-4\n",
      "-3\n",
      "-2\n",
      "-1\n"
     ]
    }
   ],
   "source": [
    "# Exercise 9: Display numbers from -10 to -1 using a for loop\n",
    "for i in range(-10, 0,1):\n",
    "    print(i)"
   ]
  },
  {
   "cell_type": "code",
   "execution_count": 192,
   "metadata": {},
   "outputs": [
    {
     "name": "stdout",
     "output_type": "stream",
     "text": [
      "1\n",
      "2\n",
      "3\n",
      "4\n",
      "5\n",
      "6\n",
      "7\n",
      "8\n",
      "9\n",
      "Done\n"
     ]
    }
   ],
   "source": [
    "# Exercise 10: Display message “Done” after successful loop execution\n",
    "for i in range(1, 10):\n",
    "    print(i)\n",
    "else:\n",
    "    print(\"Done\")"
   ]
  },
  {
   "cell_type": "code",
   "execution_count": 218,
   "metadata": {},
   "outputs": [
    {
     "name": "stdout",
     "output_type": "stream",
     "text": [
      "29\n",
      "31\n",
      "37\n",
      "41\n",
      "43\n",
      "47\n"
     ]
    }
   ],
   "source": [
    "# # Exercise 11: Print all prime numbers within a range\n",
    "# def find_prime(n: int):\n",
    "#     if n < 2:\n",
    "#         return False\n",
    "#     for i in range(2, int(n ** 0.5) + 1):\n",
    "#         if n % i == 0:\n",
    "#             return False\n",
    "#     return True\n",
    "\n",
    "# for i in range(25, 50):\n",
    "#     if find_prime(i):\n",
    "#         print(i)\n",
    "\n",
    "\n",
    "\n",
    "# firstnum = 25\n",
    "# lastnum = 50\n",
    "\n",
    "# for i in range(firstnum, lastnum + 1):\n",
    "#     cnt = 0\n",
    "#     for j in range(2, firstnum):\n",
    "#         if i % j == 0:\n",
    "#             cnt += 1\n",
    "#     if cnt == 0:\n",
    "#         print(i)\n",
    "\n",
    "for i in range(25, 50):\n",
    "    for j in range(2, i):\n",
    "        if i % j == 0:\n",
    "            break\n",
    "    else:\n",
    "            print(i)"
   ]
  },
  {
   "cell_type": "code",
   "execution_count": 229,
   "metadata": {},
   "outputs": [
    {
     "name": "stdout",
     "output_type": "stream",
     "text": [
      "0 1 1 2 3 5 8 13 21 34 "
     ]
    }
   ],
   "source": [
    "# Exercise 12: Display Fibonacci series up to 10 terms\n",
    "def find_fibonacci(length:int):\n",
    "    x = 0\n",
    "    y = 1\n",
    "    if length < 0:\n",
    "        print(\"Incorrect length \")\n",
    "        return\n",
    "    for i in range(0, length):\n",
    "        print(x, end=' ')\n",
    "        temp = x\n",
    "        x = y\n",
    "        y = temp + x\n",
    "\n",
    "\n",
    "find_fibonacci(10)"
   ]
  },
  {
   "cell_type": "code",
   "execution_count": 242,
   "metadata": {},
   "outputs": [
    {
     "name": "stdout",
     "output_type": "stream",
     "text": [
      "5! = 120\n"
     ]
    }
   ],
   "source": [
    "# Exercise 13: Find the factorial of a given number\n",
    "def find_factorial(number : int):\n",
    "    f = 1\n",
    "    for i in range(1, number+1):\n",
    "        f *= i\n",
    "    return f\n",
    "\n",
    "num = int(input(\"Enter the number: \"))\n",
    "print(f\"{num}! = {find_factorial(num)}\")\n",
    "        "
   ]
  },
  {
   "cell_type": "code",
   "execution_count": 257,
   "metadata": {},
   "outputs": [
    {
     "name": "stdout",
     "output_type": "stream",
     "text": [
      "[1, 1, 3, 4]\n"
     ]
    }
   ],
   "source": [
    "# 4. Return Uncommon Elements of Lists\n",
    "# Task\n",
    "# Return the elements that are not common between two lists. The order of elements does not matter.\n",
    "def uncummonlist(list1:list, list2:list):\n",
    "    ls = []\n",
    "    for i in list1:\n",
    "        if i not in list2:\n",
    "            ls.append(i)\n",
    "\n",
    "    for i in list2:\n",
    "        if i not in list1:\n",
    "            ls.append(i)\n",
    "    return ls\n",
    "\n",
    "list1 = [1, 1, 2]\n",
    "list2 = [2, 3, 4]\n",
    "print(uncummonlist(list1, list2))"
   ]
  }
 ],
 "metadata": {
  "kernelspec": {
   "display_name": "Python 3",
   "language": "python",
   "name": "python3"
  },
  "language_info": {
   "codemirror_mode": {
    "name": "ipython",
    "version": 3
   },
   "file_extension": ".py",
   "mimetype": "text/x-python",
   "name": "python",
   "nbconvert_exporter": "python",
   "pygments_lexer": "ipython3",
   "version": "3.13.2"
  }
 },
 "nbformat": 4,
 "nbformat_minor": 2
}
