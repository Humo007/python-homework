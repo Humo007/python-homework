{
 "cells": [
  {
   "cell_type": "markdown",
   "metadata": {},
   "source": [
    "#Lesson 5."
   ]
  },
  {
   "cell_type": "code",
   "execution_count": 15,
   "metadata": {},
   "outputs": [
    {
     "name": "stdout",
     "output_type": "stream",
     "text": [
      "True\n"
     ]
    }
   ],
   "source": [
    "#1.def is_leap(year): \"\"\" Determines whether a given year is a leap year.\n",
    "\n",
    "def is_leap(year: int):\n",
    "     return (year % 4 == 0 and year % 100 != 0) or year % 400 == 0\n",
    "        \n",
    "   \n",
    "\n",
    "year = int(input('Enter year: '))\n",
    "\n",
    "print(is_leap(year))"
   ]
  },
  {
   "cell_type": "code",
   "execution_count": 29,
   "metadata": {},
   "outputs": [
    {
     "name": "stdout",
     "output_type": "stream",
     "text": [
      "Weird\n"
     ]
    }
   ],
   "source": [
    "#2. Conditional Statements Exercise\n",
    "n = int(input('Enter the number: '))\n",
    "if 1 <= n <= 100:\n",
    "    if n % 2:\n",
    "        print(\"Weird\")\n",
    "    elif n % 2 == 0 and 2 <= n <=5:\n",
    "        print(\"Not Weird\")\n",
    "    elif n % 2 == 0 and 6 <= n <= 20:\n",
    "        print(\"Weird\")\n",
    "    elif n % 2 == 0 and 20 < n:\n",
    "        print(\"Not Weird\")\n",
    "else:\n",
    "    print(\"Number constraints of 1 to 100!\")\n"
   ]
  },
  {
   "cell_type": "code",
   "execution_count": 35,
   "metadata": {},
   "outputs": [
    {
     "data": {
      "text/plain": [
       "[2, 4, 6, 8, 10, 12]"
      ]
     },
     "execution_count": 35,
     "metadata": {},
     "output_type": "execute_result"
    }
   ],
   "source": [
    "#3.Given two integer numbers a and b. Find even numbers between this numbers. a and b are inclusive. Don't use loop.\n",
    "def FindEvenNumbers(a: int, b: int):\n",
    "    # if a > b :\n",
    "    #     return\n",
    "    # if a % 2 == 0:\n",
    "    #     print(a)\n",
    "    # FindEvenNumbers(a + 1, b) \n",
    "    if a % 2 != 0:\n",
    "        a += 1\n",
    "    if b % 2 != 0:\n",
    "        b -= 1\n",
    "    if a > b:\n",
    "        return []\n",
    "    return list(range(a, b + 1, 2))\n",
    "        \n",
    "\n",
    "a = int(input(\"Enter first number:\"))\n",
    "b = int(input(\"Enter second number:\"))\n",
    "\n",
    "(FindEvenNumbers(a, b))\n"
   ]
  },
  {
   "cell_type": "code",
   "execution_count": 37,
   "metadata": {},
   "outputs": [
    {
     "data": {
      "text/plain": [
       "[24, 26, 28, 30]"
      ]
     },
     "execution_count": 37,
     "metadata": {},
     "output_type": "execute_result"
    }
   ],
   "source": [
    "def FindEvenNumbersWithoutIf(x: int, y:int):\n",
    "    x += (x % 2)\n",
    "    y -= (y % 2)\n",
    "    return list(range(x, y + 1, 2)) * (x <= y)\n",
    " \n",
    "    \n",
    "\n",
    "x = int(input(\"Enter first number:\"))\n",
    "y = int(input(\"Enter second number:\"))\n",
    "\n",
    "FindEvenNumbersWithoutIf(x, y)   "
   ]
  }
 ],
 "metadata": {
  "kernelspec": {
   "display_name": "Python 3",
   "language": "python",
   "name": "python3"
  },
  "language_info": {
   "codemirror_mode": {
    "name": "ipython",
    "version": 3
   },
   "file_extension": ".py",
   "mimetype": "text/x-python",
   "name": "python",
   "nbconvert_exporter": "python",
   "pygments_lexer": "ipython3",
   "version": "3.13.2"
  }
 },
 "nbformat": 4,
 "nbformat_minor": 2
}
