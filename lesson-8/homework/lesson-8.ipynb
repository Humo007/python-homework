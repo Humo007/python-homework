{
 "cells": [
  {
   "cell_type": "markdown",
   "metadata": {},
   "source": [
    "#Python Exception Handling: Exercises, Solutions, and Practice"
   ]
  },
  {
   "cell_type": "code",
   "execution_count": 4,
   "metadata": {},
   "outputs": [
    {
     "name": "stdout",
     "output_type": "stream",
     "text": [
      "Error: You can't divide by zero!\n"
     ]
    }
   ],
   "source": [
    "#Exception Handling Exercises\n",
    "#1. Write a Python program to handle a ZeroDivisionError exception when dividing a number by zero.\n",
    "try:\n",
    "   num1 = int(input('Enter first number: '))\n",
    "   num2 = int(input('Enter second number: '))\n",
    "   result = num1 / num2\n",
    "except ZeroDivisionError:\n",
    "   print(\"Error: You can't divide by zero!\")\n",
    "else: \n",
    "   print(f'The result is {result}')\n"
   ]
  },
  {
   "cell_type": "code",
   "execution_count": 12,
   "metadata": {},
   "outputs": [
    {
     "name": "stdout",
     "output_type": "stream",
     "text": [
      "ValueError:  This is not a valid integer!\n"
     ]
    }
   ],
   "source": [
    "#2. Write a Python program that prompts the user to input an integer and raises a ValueError exception if the input is not a valid integer.\n",
    "#Exception Handling Exercises\n",
    "try:\n",
    "   user_input = input('Enter the number: ')\n",
    "   if not user_input.lstrip('-').isdigit(): \n",
    "      raise ValueError(\"This is not a valid integer!\")\n",
    "   number = int(user_input)\n",
    "   print(f'You entered integer: {number}')\n",
    "except ValueError as VE:\n",
    "   print(\"ValueError: \", VE) \n",
    " \n"
   ]
  },
  {
   "cell_type": "code",
   "execution_count": null,
   "metadata": {},
   "outputs": [
    {
     "name": "stdout",
     "output_type": "stream",
     "text": [
      "id, name, age\n",
      "101, Ali, 21\n",
      "102, Alisher, 24\n",
      "Success: File found!\n",
      "This always runs!\n"
     ]
    }
   ],
   "source": [
    "#3. Write a Python program that opens a file and handles a FileNotFoundError exception if the file does not exist.\n",
    "try:\n",
    "    with open(\"test.txt\", 'r') as f:\n",
    "        content = f.read()\n",
    "        print(content)\n",
    "except FileNotFoundError:\n",
    "    print(\"Error: File not found!\")\n",
    "else:\n",
    "    print('Success: File found!')\n",
    "finally:\n",
    "    print(\"This always runs!\")"
   ]
  },
  {
   "cell_type": "code",
   "execution_count": 6,
   "metadata": {},
   "outputs": [
    {
     "name": "stdout",
     "output_type": "stream",
     "text": [
      "The sum is: 24.5\n"
     ]
    }
   ],
   "source": [
    "#4. Write a Python program that prompts the user to input two numbers and raises a TypeError exception if the inputs are not numerical.\n",
    "try:\n",
    "    number1 = (input(\"Enter first number: \"))\n",
    "    number2 = (input(\"Enter second number: \"))\n",
    "    if not (number1.replace(\".\", \"\", 1).isdigit() and number2.replace(\".\", \"\", 1).isdigit()):\n",
    "        raise TypeError(\"Both inputs must be numbers!\")\n",
    "    number1 = float(number1)\n",
    "    number2 = float(number2)\n",
    "\n",
    "    print(f\"The sum is: {number1 + number2}\")\n",
    "except TypeError as te:\n",
    "    print(\"TypeError: \", te)"
   ]
  },
  {
   "cell_type": "code",
   "execution_count": 15,
   "metadata": {},
   "outputs": [
    {
     "name": "stdout",
     "output_type": "stream",
     "text": [
      "id, name, age\n",
      "101, Ali, 21\n",
      "102, Alisher, 24\n"
     ]
    }
   ],
   "source": [
    "#5. Write a Python program that opens a file and handles a PermissionError exception if there is a permission issue.\n",
    "try:\n",
    "    with open('test.txt') as file:\n",
    "        content = file.read()\n",
    "        print(content)\n",
    "except PermissionError:\n",
    "    print(f\"PermissionError: {PermissionError}  You don't have permission to access this file!\")\n"
   ]
  },
  {
   "cell_type": "code",
   "execution_count": 18,
   "metadata": {},
   "outputs": [
    {
     "name": "stdout",
     "output_type": "stream",
     "text": [
      "3\n"
     ]
    }
   ],
   "source": [
    "#6. Write a Python program that executes an operation on a list and handles an IndexError exception if the index is out of range.\n",
    "try:\n",
    "    lst = [1, 2, 3, 4, 5]\n",
    "    print(lst[2])\n",
    "except IndexError:\n",
    "    print(\"Error: index is out of range!\")\n"
   ]
  },
  {
   "cell_type": "code",
   "execution_count": null,
   "metadata": {},
   "outputs": [
    {
     "ename": "ValueError",
     "evalue": "invalid literal for int() with base 10: ''",
     "output_type": "error",
     "traceback": [
      "\u001b[31m---------------------------------------------------------------------------\u001b[39m",
      "\u001b[31mValueError\u001b[39m                                Traceback (most recent call last)",
      "\u001b[36mCell\u001b[39m\u001b[36m \u001b[39m\u001b[32mIn[32]\u001b[39m\u001b[32m, line 3\u001b[39m\n\u001b[32m      1\u001b[39m \u001b[38;5;66;03m#7. Write a Python program that prompts the user to input a number and handles a KeyboardInterrupt exception if the user cancels the input.\u001b[39;00m\n\u001b[32m      2\u001b[39m \u001b[38;5;28;01mtry\u001b[39;00m:\n\u001b[32m----> \u001b[39m\u001b[32m3\u001b[39m     number = \u001b[38;5;28;43mint\u001b[39;49m\u001b[43m(\u001b[49m\u001b[38;5;28;43minput\u001b[39;49m\u001b[43m(\u001b[49m\u001b[33;43m\"\u001b[39;49m\u001b[33;43mEnter the number: \u001b[39;49m\u001b[33;43m\"\u001b[39;49m\u001b[43m)\u001b[49m\u001b[43m)\u001b[49m\n\u001b[32m      4\u001b[39m     \u001b[38;5;28mprint\u001b[39m(\u001b[33mf\u001b[39m\u001b[33m\"\u001b[39m\u001b[33mYou entered: \u001b[39m\u001b[38;5;132;01m{\u001b[39;00mnumber\u001b[38;5;132;01m}\u001b[39;00m\u001b[33m\"\u001b[39m)\n\u001b[32m      5\u001b[39m \u001b[38;5;28;01mexcept\u001b[39;00m \u001b[38;5;167;01mKeyboardInterrupt\u001b[39;00m:\n",
      "\u001b[31mValueError\u001b[39m: invalid literal for int() with base 10: ''"
     ]
    }
   ],
   "source": [
    "#7. Write a Python program that prompts the user to input a number and handles a KeyboardInterrupt exception if the user cancels the input.\n",
    "try:\n",
    "    number = int(input(\"Enter the number: \"))\n",
    "    print(f\"You entered: {number}\")\n",
    "except KeyboardInterrupt:\n",
    "    print(\"\\nThe program was interrupted by the user. Press `Ctrl + C` to stop the program\")\n",
    "\n",
    "try:\n",
    "    while True:\n",
    "        # doimiy sikl\n",
    "        number = int(input(\"Sonni kiriting: \"))\n",
    "        print(f\"Siz kiritgan son: {number}\")\n",
    "except KeyboardInterrupt:\n",
    "    print(\"\\nDastur foydalanuvchi tomonidan to‘xtatildi.\")"
   ]
  },
  {
   "cell_type": "code",
   "execution_count": 43,
   "metadata": {},
   "outputs": [
    {
     "name": "stdout",
     "output_type": "stream",
     "text": [
      "An arithmetic error occurred: division by zero\n"
     ]
    }
   ],
   "source": [
    "#8. Write a Python program that executes division and handles an ArithmeticError exception if there is an arithmetic error.\n",
    "try:\n",
    "    res = 10 / 0\n",
    "    print(res)\n",
    "except ArithmeticError as A:\n",
    "    print(f\"An arithmetic error occurred: {A}\")\n"
   ]
  },
  {
   "cell_type": "code",
   "execution_count": 51,
   "metadata": {},
   "outputs": [
    {
     "name": "stdout",
     "output_type": "stream",
     "text": [
      "id, name, age\n",
      "101, Ali, 21\n",
      "102, Alisher, 24\n"
     ]
    }
   ],
   "source": [
    "#9. Write a Python program that opens a file and handles a UnicodeDecodeError exception if there is an encoding issue.\n",
    "try: \n",
    "    with open(\"test.txt\", 'r', encoding=\"utf-8\") as f:\n",
    "       con = f.read()\n",
    "       print(con)\n",
    "except UnicodeDecodeError as UDE:\n",
    "    print(\"UnicodeDecodeError caught!\")\n",
    "    print(f\"Error details: {UDE}\")\n"
   ]
  },
  {
   "cell_type": "code",
   "execution_count": 52,
   "metadata": {},
   "outputs": [
    {
     "name": "stdout",
     "output_type": "stream",
     "text": [
      "Attribute does not exist.\n"
     ]
    }
   ],
   "source": [
    "#10. Write a Python program that executes a list operation and handles an AttributeError exception if the attribute does not exist.\n",
    "try: \n",
    "    x = 5\n",
    "    x.append(3)\n",
    "    x\n",
    "except AttributeError:\n",
    "    print(\"Attribute does not exist.\")"
   ]
  },
  {
   "cell_type": "markdown",
   "metadata": {},
   "source": [
    "#Python File Input Output: Exercises, Practice, Solution\n"
   ]
  },
  {
   "cell_type": "code",
   "execution_count": 54,
   "metadata": {},
   "outputs": [
    {
     "name": "stdout",
     "output_type": "stream",
     "text": [
      "id, name, age\n",
      "101, Ali, 21\n",
      "102, Alisher, 24\n"
     ]
    }
   ],
   "source": [
    "#File Input/Output Exercises\n",
    "#1. Write a Python program to read an entire text file.\n",
    "try:\n",
    "    with open(\"test.txt\", 'r', encoding=\"utf-8\") as f:\n",
    "        content = f.read()\n",
    "        print(content)\n",
    "except (FileNotFoundError, UnicodeDecodeError):\n",
    "    print(\"Error exist!\")\n",
    "   "
   ]
  },
  {
   "cell_type": "code",
   "execution_count": null,
   "metadata": {},
   "outputs": [
    {
     "name": "stdout",
     "output_type": "stream",
     "text": [
      "id, name, age\n"
     ]
    }
   ],
   "source": [
    "#2. Write a Python program to read first n lines of a file.\n",
    "try:\n",
    "    with open(\"test.txt\", 'r', encoding=\"utf-8\") as f:\n",
    "        n = int(input(\"Enter number of first lines to read: \"))\n",
    "        for i in range(n):\n",
    "            c = f.readline()\n",
    "            if not c:\n",
    "                break\n",
    "            print(c.strip())\n",
    "except FileNotFoundError:\n",
    "    print(\"File not found\")\n",
    "except Exception as e:\n",
    "    print(f\"Error: {e}\")"
   ]
  },
  {
   "cell_type": "code",
   "execution_count": 3,
   "metadata": {},
   "outputs": [
    {
     "name": "stdout",
     "output_type": "stream",
     "text": [
      "id, name, age\n",
      "101, Ali, 21\n",
      "102, Alisher, 24\n",
      "Welcome to our class!\n",
      "Welcome to our class!\n"
     ]
    }
   ],
   "source": [
    "#3. Write a Python program to append text to a file and display the text.\n",
    "with open('test.txt', 'a', encoding=\"utf-8\") as f:\n",
    "    f.write(\"\\nWelcome to our class!\")\n",
    "\n",
    "with open(\"test.txt\", 'r', encoding=\"utf-8\") as file:\n",
    "    text = file.read()\n",
    "    print(text)"
   ]
  },
  {
   "cell_type": "code",
   "execution_count": 9,
   "metadata": {},
   "outputs": [
    {
     "name": "stdout",
     "output_type": "stream",
     "text": [
      "\n",
      "Last  4 lines:\n",
      "101, Ali, 21\n",
      "\n",
      "102, Alisher, 24\n",
      "\n",
      "Welcome to our class!\n",
      "\n",
      "Welcome to our class!\n"
     ]
    }
   ],
   "source": [
    "#4. Write a Python program to read last n lines of a file.\n",
    "try:\n",
    "    with open(\"test.txt\", 'r', encoding=\"utf-8\") as f:\n",
    "        n = int(input(\"Enter number of last lines to read: \"))\n",
    "        lines = f.readlines()\n",
    "        last_lines = lines[-n:]\n",
    "        print(\"\\nLast \", n, \"lines:\")\n",
    "        for i in last_lines:\n",
    "            print(i)\n",
    "except FileNotFoundError:\n",
    "    print(\"File not found\")\n",
    "except ValueError:\n",
    "    print(\"Please enter a valid number!\")\n",
    "except Exception as e:\n",
    "    print(f\"Error: {e}\")"
   ]
  },
  {
   "cell_type": "code",
   "execution_count": 12,
   "metadata": {},
   "outputs": [
    {
     "name": "stdout",
     "output_type": "stream",
     "text": [
      "['id, name, age\\n', '101, Ali, 21\\n', '102, Alisher, 24\\n', 'Welcome to our class!\\n', 'Welcome to our class!']\n"
     ]
    }
   ],
   "source": [
    "#5. Write a Python program to read a file line by line and store it into a list.\n",
    "try:\n",
    "    with open(\"test.txt\", 'r', encoding=\"utf-8\") as f:\n",
    "        content = f.readlines()\n",
    "        print(content)\n",
    "except FileNotFoundError:\n",
    "    print(\"File not found\")\n",
    "except Exception as e:\n",
    "    print(f\"Error: {e}\")"
   ]
  },
  {
   "cell_type": "code",
   "execution_count": null,
   "metadata": {},
   "outputs": [
    {
     "name": "stdout",
     "output_type": "stream",
     "text": [
      "File content stored in variable:\n",
      "id, name, age\n",
      "101, Ali, 21\n",
      "102, Alisher, 24\n",
      "Welcome to our class!\n",
      "Welcome to our class!\n"
     ]
    }
   ],
   "source": [
    "#6. Write a Python program to read a file line by line and store it into a variable.\n",
    "try:\n",
    "    with open(\"test.txt\", 'r', encoding=\"utf-8\") as f:\n",
    "        lines = \"\"\n",
    "        for i in f:\n",
    "            lines += i\n",
    "    print(\"File content stored in variable:\")\n",
    "    print(lines)\n",
    "except FileNotFoundError:\n",
    "    print(\"File not found\")\n",
    "except Exception as e:\n",
    "    print(f\"Error: {e}\")"
   ]
  },
  {
   "cell_type": "code",
   "execution_count": null,
   "metadata": {},
   "outputs": [
    {
     "name": "stdout",
     "output_type": "stream",
     "text": [
      "File content stored in array:\n",
      "['id, name, age\\n', '101, Ali, 21\\n', '102, Alisher, 24\\n', 'Welcome to our class!\\n', 'Welcome to our class!']\n"
     ]
    }
   ],
   "source": [
    "#7. Write a Python program to read a file line by line and store it into an array.\n",
    "try:\n",
    "    with open(\"test.txt\", 'r', encoding=\"utf-8\") as f:\n",
    "        array = []\n",
    "        for i in f:\n",
    "            array.append(i)\n",
    "    print(\"File content stored in array:\")\n",
    "    print(array)\n",
    "except FileNotFoundError:\n",
    "    print(\"File not found\")\n",
    "except Exception as e:\n",
    "    print(f\"Error: {e}\")"
   ]
  },
  {
   "cell_type": "code",
   "execution_count": 19,
   "metadata": {},
   "outputs": [
    {
     "name": "stdout",
     "output_type": "stream",
     "text": [
      "The longest word: Alisher,\n"
     ]
    }
   ],
   "source": [
    "#8. Write a Python program to find the longest words.\n",
    "try:\n",
    "    with open(\"test.txt\", 'r', encoding=\"utf-8\") as f:\n",
    "        word = f.read().split()\n",
    "        longest_word = max(word, key=len)\n",
    "        \n",
    "    print(f\"The longest word: {longest_word}\")\n",
    "except FileNotFoundError:\n",
    "    print(\"File not found\")\n",
    "except Exception as e:\n",
    "    print(f\"Error: {e}\")"
   ]
  },
  {
   "cell_type": "code",
   "execution_count": 22,
   "metadata": {},
   "outputs": [
    {
     "name": "stdout",
     "output_type": "stream",
     "text": [
      "Count lines: 5\n"
     ]
    }
   ],
   "source": [
    "#9. Write a Python program to count the number of lines in a text file.\n",
    "try:\n",
    "    with open(\"test.txt\", 'r', encoding=\"utf-8\") as f:\n",
    "        # cnt = 0\n",
    "        # for i in f:\n",
    "        #     cnt += 1\n",
    "        line_count = len(f.readlines())\n",
    "        \n",
    "    print(f\"Count lines: {line_count}\")\n",
    "except FileNotFoundError:\n",
    "    print(\"File not found\")\n",
    "except Exception as e:\n",
    "    print(f\"Error: {e}\")"
   ]
  },
  {
   "cell_type": "code",
   "execution_count": 5,
   "metadata": {},
   "outputs": [
    {
     "name": "stdout",
     "output_type": "stream",
     "text": [
      "Word frequencies: \n",
      "id -> 1\n",
      "name -> 1\n",
      "age -> 1\n",
      "101 -> 1\n",
      "ali -> 1\n",
      "21 -> 1\n",
      "102 -> 1\n",
      "alisher -> 1\n",
      "24 -> 1\n",
      "welcome -> 2\n",
      "to -> 2\n",
      "our -> 2\n",
      "class -> 2\n"
     ]
    }
   ],
   "source": [
    "#10. Write a Python program to count the frequency of words in a file.\n",
    "import string\n",
    "try:\n",
    "    with open(\"test.txt\", 'r', encoding=\"utf-8\") as f:\n",
    "        words = f.read().lower()\n",
    "        freq = {}\n",
    "\n",
    "        for char in words:\n",
    "            if char in string.punctuation:\n",
    "                words = words.replace(char, \"\")\n",
    "        words = words.split()\n",
    "        for word in words:\n",
    "            if word in freq:\n",
    "                freq[word] += 1\n",
    "            else:\n",
    "                freq[word] = 1\n",
    "    print(\"Word frequencies: \")\n",
    "    for word, count in freq.items():\n",
    "        print(f\"{word} -> {count}\")\n",
    "         \n",
    "except FileNotFoundError:\n",
    "    print(\"File not found\")\n",
    "except Exception as e:\n",
    "    print(f\"Error: {e}\")"
   ]
  },
  {
   "cell_type": "code",
   "execution_count": 29,
   "metadata": {},
   "outputs": [
    {
     "name": "stdout",
     "output_type": "stream",
     "text": [
      "File size of 'test.txt' is 91 bytes. \n"
     ]
    }
   ],
   "source": [
    "import os\n",
    "#11. Write a Python program to get the file size of a plain file.\n",
    "try:\n",
    "    file_path = 'test.txt'\n",
    "    size_file = os.path.getsize(file_path)\n",
    "    print(f\"File size of '{file_path}' is {size_file} bytes. \")\n",
    "         \n",
    "except FileNotFoundError:\n",
    "    print(\"File not found\")\n",
    "except Exception as e:\n",
    "    print(f\"Error: {e}\")"
   ]
  },
  {
   "cell_type": "code",
   "execution_count": 31,
   "metadata": {},
   "outputs": [
    {
     "name": "stdout",
     "output_type": "stream",
     "text": [
      "List has been written to 'listdata.csv'!\n"
     ]
    }
   ],
   "source": [
    "#12. Write a Python program to write a list to a file.\n",
    "try:\n",
    "    lst = [\"Python\", \"C#\", \"Java\", \"Go\", \"PHP\"]\n",
    "\n",
    "    with open(\"listdata.csv\", 'w', encoding=\"utf-8\") as f:\n",
    "        for i in lst:\n",
    "            f.write(i + '\\n')\n",
    "        \n",
    "    print(\"List has been written to 'listdata.csv'!\")\n",
    "except Exception as e:\n",
    "    print(f\"Error: {e}\")"
   ]
  },
  {
   "cell_type": "code",
   "execution_count": null,
   "metadata": {},
   "outputs": [
    {
     "name": "stdout",
     "output_type": "stream",
     "text": [
      "Copied line by line successfully!\n"
     ]
    }
   ],
   "source": [
    "#13. Write a Python program to copy the contents of a file to another file.\n",
    "try:\n",
    "    # with open(\"test.txt\", 'r', encoding=\"utf-8\") as f:\n",
    "    #     cont = f.read()\n",
    "    # with open(\"testcopy.txt\", 'w', encoding=\"utf-8\") as file:\n",
    "    #     file.write(cont)\n",
    "        \n",
    "    # print(\"Copy has been written to 'testcopy.txt'!\")\n",
    "    with open(\"test.txt\", 'r', encoding=\"utf-8\") as f, open(\"testcopy.txt\", \"w\", encoding=\"utf-8\") as copy:\n",
    "        for i in f:\n",
    "            copy.write(i)\n",
    "    print(\"Copied line by line successfully!\")\n",
    "except FileNotFoundError:\n",
    "    print(\"File not found!\")\n",
    "except Exception as e:\n",
    "    print(f\"Error: {e}\")\n"
   ]
  },
  {
   "cell_type": "code",
   "execution_count": 35,
   "metadata": {},
   "outputs": [
    {
     "name": "stdout",
     "output_type": "stream",
     "text": [
      "Combined lines: \n",
      "id, name, age id, name, age\n",
      "101, Ali, 21 101, Ali, 21\n",
      "102, Alisher, 24 102, Alisher, 24\n",
      "Welcome to our class! Welcome to our class!\n"
     ]
    }
   ],
   "source": [
    "#14. Write a Python program to combine each line from the first file with the corresponding line in the second file.\n",
    "try:\n",
    "    with open(\"test.txt\", 'r', encoding=\"utf-8\") as f1, open(\"testcopy.txt\", \"r\", encoding=\"utf-8\") as f2:\n",
    "        lines1 = f1.readlines()\n",
    "        lines2 = f2.readlines()\n",
    "    min_len = min(len(lines1), len(lines2))\n",
    "\n",
    "    print(\"Combined lines: \")\n",
    "    for i in range(min_len):\n",
    "        combined = lines1[i].strip() + \" \" + lines2[i].strip()\n",
    "        print(combined)\n",
    "except FileNotFoundError:\n",
    "    print(\"File not found!\")\n",
    "except Exception as e:\n",
    "    print(f\"Error: {e}\")"
   ]
  },
  {
   "cell_type": "code",
   "execution_count": 41,
   "metadata": {},
   "outputs": [
    {
     "name": "stdout",
     "output_type": "stream",
     "text": [
      "Random line: Welcome to our class!\n"
     ]
    }
   ],
   "source": [
    "#15. Write a Python program to read a random line from a file.\n",
    "import random\n",
    "try:\n",
    "    with open(\"test.txt\", 'r', encoding=\"utf-8\") as f:\n",
    "        lines =f.readlines()\n",
    "        if lines:\n",
    "            random_line = random.choice(lines)\n",
    "            print(\"Random line:\", random_line.strip())\n",
    "        else:\n",
    "            print(\"File is empty: \")\n",
    "\n",
    "except FileNotFoundError:\n",
    "    print(\"File not found\")\n",
    "except Exception as e:\n",
    "    print(f\"Error: {e}\")"
   ]
  },
  {
   "cell_type": "code",
   "execution_count": 1,
   "metadata": {},
   "outputs": [
    {
     "name": "stdout",
     "output_type": "stream",
     "text": [
      "Is file closed?  False\n",
      "Is file closed now?  True\n"
     ]
    }
   ],
   "source": [
    "#16. Write a Python program to assess if a file is closed or not.\n",
    "\n",
    "file = open(\"test.txt\", 'r')\n",
    "\n",
    "\n",
    "print(\"Is file closed? \", file.closed)\n",
    "\n",
    "file.close()\n",
    "\n",
    "print(\"Is file closed now? \", file.closed)\n",
    "\n"
   ]
  },
  {
   "cell_type": "code",
   "execution_count": 4,
   "metadata": {},
   "outputs": [],
   "source": [
    "#17. Write a Python program to remove newline characters from a file.\n",
    "try:\n",
    "    with open(\"test.txt\", 'r', encoding=\"utf-8\") as f:\n",
    "        txt = f.read()\n",
    "\n",
    "        txt_no_newline = txt.replace(\"\\n\", \"\")\n",
    "        txt_no_newline\n",
    "    \n",
    "\n",
    "    with open(\"test2.txt\", \"w\", encoding=\"utf-8\") as file:\n",
    "        file.write(txt_no_newline)\n",
    "except FileNotFoundError:\n",
    "    print(\"File not found\")\n",
    "except Exception as e:\n",
    "    print(f\"Error: {e}\")"
   ]
  },
  {
   "cell_type": "code",
   "execution_count": 6,
   "metadata": {},
   "outputs": [
    {
     "name": "stdout",
     "output_type": "stream",
     "text": [
      "Total number of words: 17\n"
     ]
    }
   ],
   "source": [
    "#18. Write a Python program that takes a text file as input and returns the number of words in a given text file.\n",
    "#Note: Some words can be separated by a comma with no space.\n",
    "import string\n",
    "try:\n",
    "    with open(\"test.txt\", 'r', encoding=\"utf-8\") as f:\n",
    "        txt = f.read().lower()\n",
    "\n",
    "    for i in string.punctuation:\n",
    "        if i != \"'\":\n",
    "                txt = txt.replace(i, \" \")\n",
    "    words = txt.split()\n",
    "\n",
    "    count_words = len(words)\n",
    "    print(f\"Total number of words: {count_words}\")\n",
    "except FileNotFoundError:\n",
    "    print(\"File not found\")\n",
    "except Exception as e:\n",
    "    print(f\"Error: {e}\")"
   ]
  },
  {
   "cell_type": "code",
   "execution_count": 15,
   "metadata": {},
   "outputs": [
    {
     "name": "stdout",
     "output_type": "stream",
     "text": [
      "Characters list:\n",
      "['T', 'r', 'y', 'i', 'n', 'g', ' ', 't', 'o', ' ', 'w', 'r', 'i', 't', 'e', ' ', 't', 'o', ' ', 'a', ' ', 'r', 'e', 'a', 'd', '-', 'o', 'n', 'l', 'y', ' ', 'f', 'i', 'l', 'e', '.', ' ', 'i', 'd', ',', ' ', 'n', 'a', 'm', 'e', ',', ' ', 'a', 'g', 'e', '\\n', '1', '0', '1', ',', ' ', 'A', 'l', 'i', ',', ' ', '2', '1', '\\n', '1', '0', '2', ',', ' ', 'A', 'l', 'i', 's', 'h', 'e', 'r', ',', ' ', '2', '4', '\\n', 'W', 'e', 'l', 'c', 'o', 'm', 'e', ' ', 't', 'o', ' ', 'o', 'u', 'r', ' ', 'c', 'l', 'a', 's', 's', '!', '\\n', 'W', 'e', 'l', 'c', 'o', 'm', 'e', ' ', 't', 'o', ' ', 'o', 'u', 'r', ' ', 'c', 'l', 'a', 's', 's', '!', 'i', 'd', ',', ' ', 'n', 'a', 'm', 'e', ',', ' ', 'a', 'g', 'e', '1', '0', '1', ',', ' ', 'A', 'l', 'i', ',', ' ', '2', '1', '1', '0', '2', ',', ' ', 'A', 'l', 'i', 's', 'h', 'e', 'r', ',', ' ', '2', '4', 'W', 'e', 'l', 'c', 'o', 'm', 'e', ' ', 't', 'o', ' ', 'o', 'u', 'r', ' ', 'c', 'l', 'a', 's', 's', '!', 'W', 'e', 'l', 'c', 'o', 'm', 'e', ' ', 't', 'o', ' ', 'o', 'u', 'r', ' ', 'c', 'l', 'a', 's', 's', '!', 'i', 'd', ',', ' ', 'n', 'a', 'm', 'e', ',', ' ', 'a', 'g', 'e', '\\n', '1', '0', '1', ',', ' ', 'A', 'l', 'i', ',', ' ', '2', '1', '\\n', '1', '0', '2', ',', ' ', 'A', 'l', 'i', 's', 'h', 'e', 'r', ',', ' ', '2', '4', '\\n', 'W', 'e', 'l', 'c', 'o', 'm', 'e', ' ', 't', 'o', ' ', 'o', 'u', 'r', ' ', 'c', 'l', 'a', 's', 's', '!']\n"
     ]
    }
   ],
   "source": [
    "#19. Write a Python program to extract characters from various text files and put them into a list.\n",
    "import os\n",
    "try:\n",
    "    folder_path = r\"C:\\Users\\ХУМОИДДИН\\Desktop\\python-homework\"\n",
    "    lst = []\n",
    "    for filename in os.listdir(folder_path):\n",
    "        if filename.endswith(\".txt\"):\n",
    "            file_path = os.path.join(folder_path, filename)\n",
    "            with open(file_path, 'r', encoding=\"utf-8\") as file:\n",
    "                txt = file.read()\n",
    "                for i in txt:\n",
    "                    lst.append(i)\n",
    "    print(\"Characters list:\")\n",
    "    print(lst)\n",
    "   \n",
    "except FileNotFoundError:\n",
    "    print(\"Folder or File not found!\")\n",
    "except Exception as e:\n",
    "    print(f\"Error: {e}\")"
   ]
  },
  {
   "cell_type": "code",
   "execution_count": 16,
   "metadata": {},
   "outputs": [
    {
     "name": "stdout",
     "output_type": "stream",
     "text": [
      "A.txt is created!\n",
      "B.txt is created!\n",
      "C.txt is created!\n",
      "D.txt is created!\n",
      "E.txt is created!\n",
      "F.txt is created!\n",
      "G.txt is created!\n",
      "H.txt is created!\n",
      "I.txt is created!\n",
      "J.txt is created!\n",
      "K.txt is created!\n",
      "L.txt is created!\n",
      "M.txt is created!\n",
      "N.txt is created!\n",
      "O.txt is created!\n",
      "P.txt is created!\n",
      "Q.txt is created!\n",
      "R.txt is created!\n",
      "S.txt is created!\n",
      "T.txt is created!\n",
      "U.txt is created!\n",
      "V.txt is created!\n",
      "W.txt is created!\n",
      "X.txt is created!\n",
      "Y.txt is created!\n",
      "Z.txt is created!\n",
      "File creation process completed!\n"
     ]
    }
   ],
   "source": [
    "#20. Write a Python program to generate 26 text files named A.txt, B.txt, and so on up to Z.txt.\n",
    "import string\n",
    "letters = string.ascii_uppercase\n",
    "\n",
    "for letter in letters:\n",
    "    try:\n",
    "        filename = f\"{letter}.txt\"\n",
    "        with open(filename, 'w', encoding='utf-8') as f:\n",
    "            f.write(f\"Welcome to the '{filename}' file😊.\")\n",
    "        print(f\"{filename} is created!\")\n",
    "    except Exception as e:\n",
    "        print(f\"Error: {e}\")\n",
    "print(\"File creation process completed!\")"
   ]
  },
  {
   "cell_type": "code",
   "execution_count": 17,
   "metadata": {},
   "outputs": [
    {
     "name": "stdout",
     "output_type": "stream",
     "text": [
      "File created successfully😊!\n"
     ]
    }
   ],
   "source": [
    "#21. Write a Python program to create a file where all letters of the English alphabet are listed with a specified number of letters on each line.\n",
    "import string\n",
    "letters = string.ascii_letters\n",
    "letters_per_line = 5\n",
    "try:\n",
    "    with open(\"alphabet.txt\", \"w\", encoding=\"utf-8\") as file:\n",
    "        for i in range(0, len(letters), letters_per_line):\n",
    "            line = letters[i:i + letters_per_line]\n",
    "            file.write(line + '\\n')\n",
    "    print(\"File created successfully😊!\")\n",
    "except Exception as e:\n",
    "    print(f\"Error: {e}\")"
   ]
  }
 ],
 "metadata": {
  "kernelspec": {
   "display_name": "Python 3",
   "language": "python",
   "name": "python3"
  },
  "language_info": {
   "codemirror_mode": {
    "name": "ipython",
    "version": 3
   },
   "file_extension": ".py",
   "mimetype": "text/x-python",
   "name": "python",
   "nbconvert_exporter": "python",
   "pygments_lexer": "ipython3",
   "version": "3.13.2"
  }
 },
 "nbformat": 4,
 "nbformat_minor": 2
}
