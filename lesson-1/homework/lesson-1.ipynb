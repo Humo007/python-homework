{
 "cells": [
  {
   "cell_type": "code",
   "execution_count": null,
   "metadata": {},
   "outputs": [
    {
     "name": "stdout",
     "output_type": "stream",
     "text": [
      "Perimeter -> 20 \n",
      "Area -> 25\n"
     ]
    }
   ],
   "source": [
    "#1.Given a side of square. Find its perimeter and area.\n",
    "a = int(input('Enter the site of square: '))\n",
    "\n",
    "P = 4 * a\n",
    "S = a**2\n",
    "print(f'Perimeter of square -> {P} \\nArea of square -> {S}')"
   ]
  },
  {
   "cell_type": "code",
   "execution_count": 11,
   "metadata": {},
   "outputs": [
    {
     "name": "stdout",
     "output_type": "stream",
     "text": [
      "Length of circle -> 12.57\n"
     ]
    }
   ],
   "source": [
    "import math\n",
    "#2.Given diameter of circle. Find its length.\n",
    "d = int(input('Enter diameter of circle:  '))\n",
    "L = d * math.pi\n",
    "print(f'Length of circle -> {round(L,2)}')"
   ]
  },
  {
   "cell_type": "code",
   "execution_count": 12,
   "metadata": {},
   "outputs": [
    {
     "name": "stdout",
     "output_type": "stream",
     "text": [
      "Average of numbers -> 7.0.\n"
     ]
    }
   ],
   "source": [
    "#3.Given two numbers a and b. Find their mean.\n",
    "a = 5\n",
    "b = 9\n",
    "Mean = (a + b) / 2\n",
    "print(f\"Average of numbers -> {Mean}.\") "
   ]
  },
  {
   "cell_type": "code",
   "execution_count": 14,
   "metadata": {},
   "outputs": [
    {
     "name": "stdout",
     "output_type": "stream",
     "text": [
      "Sum -> 38.\n",
      "Product -> 345. \n",
      "Square_a -> 225. \n",
      "Square_b -> 529.\n"
     ]
    }
   ],
   "source": [
    "#4.Given two numbers a and b. Find their sum, product and square of each number.\n",
    "a = 15\n",
    "b = 23\n",
    "S = a + b \n",
    "P = a * b\n",
    "a_square = a**2\n",
    "b_square = b**2\n",
    "print(f\"Sum -> {S}.\\nProduct -> {P}. \\nSquare_a -> {a_square}. \\nSquare_b -> {b_square}.\")"
   ]
  }
 ],
 "metadata": {
  "kernelspec": {
   "display_name": "Python 3",
   "language": "python",
   "name": "python3"
  },
  "language_info": {
   "codemirror_mode": {
    "name": "ipython",
    "version": 3
   },
   "file_extension": ".py",
   "mimetype": "text/x-python",
   "name": "python",
   "nbconvert_exporter": "python",
   "pygments_lexer": "ipython3",
   "version": "3.13.2"
  }
 },
 "nbformat": 4,
 "nbformat_minor": 2
}
