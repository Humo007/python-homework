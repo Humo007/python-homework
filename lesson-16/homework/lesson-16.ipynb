{
 "cells": [
  {
   "cell_type": "code",
   "execution_count": 5,
   "id": "6d986ef5",
   "metadata": {},
   "outputs": [],
   "source": [
    "import numpy as np"
   ]
  },
  {
   "cell_type": "code",
   "execution_count": 4,
   "id": "b1dbc7ac",
   "metadata": {},
   "outputs": [
    {
     "name": "stdout",
     "output_type": "stream",
     "text": [
      "[ 12.23  13.32 100.    36.32]\n"
     ]
    }
   ],
   "source": [
    "# 1. Convert List to 1D Array\n",
    "# Write a NumPy program to convert a list of numeric values into a one-dimensional NumPy array.\n",
    "\n",
    "# Expected Output:\n",
    "\n",
    "# Original List: [12.23, 13.32, 100, 36.32] One-dimensional NumPy array: [ 12.23 13.32 100. 36.32]\n",
    "ls = [12.23, 13.32, 100, 36.32]\n",
    "arr = np.array(ls)\n",
    "print(arr)\n"
   ]
  },
  {
   "cell_type": "code",
   "execution_count": 9,
   "id": "03f7ac3e",
   "metadata": {},
   "outputs": [
    {
     "name": "stdout",
     "output_type": "stream",
     "text": [
      "[[ 2  3  4]\n",
      " [ 5  6  7]\n",
      " [ 8  9 10]]\n"
     ]
    }
   ],
   "source": [
    "# 2. Create 3x3 Matrix (2?10)\n",
    "# Write a NumPy program to create a 3x3 matrix with values ranging from 2 to 10.\n",
    "\n",
    "# Expected Output:\n",
    "\n",
    "# [[ 2 3 4] [ 5 6 7] [ 8 9 10]]\n",
    "\n",
    "Z = np.arange(2, 11).reshape((3,3))\n",
    "print(Z)"
   ]
  },
  {
   "cell_type": "code",
   "execution_count": 10,
   "id": "5ef65a2c",
   "metadata": {},
   "outputs": [
    {
     "name": "stdout",
     "output_type": "stream",
     "text": [
      "[ 0.  0.  0.  0.  0.  0. 11.  0.  0.  0.]\n"
     ]
    }
   ],
   "source": [
    "# 3. Null Vector (10) & Update Sixth Value\n",
    "# Write a NumPy program to create a null vector of size 10 and update the sixth value to 11.\n",
    "\n",
    "# [ 0. 0. 0. 0. 0. 0. 0. 0. 0. 0.]\n",
    "\n",
    "# Update sixth value to 11 [ 0. 0. 0. 0. 0. 0. 11. 0. 0. 0.]\n",
    "\n",
    "Z = np.zeros(10)\n",
    "Z[6] = 11\n",
    "print(Z)"
   ]
  },
  {
   "cell_type": "code",
   "execution_count": 11,
   "id": "0652476a",
   "metadata": {},
   "outputs": [
    {
     "name": "stdout",
     "output_type": "stream",
     "text": [
      "[12 13 14 15 16 17 18 19 20 21 22 23 24 25 26 27 28 29 30 31 32 33 34 35\n",
      " 36 37]\n"
     ]
    }
   ],
   "source": [
    "# 4. Array from 12 to 38\n",
    "# Write a NumPy program to create an array with values ranging from 12 to 38.\n",
    "\n",
    "# Expected Output:\n",
    "\n",
    "# [12 13 14 15 16 17 18 19 20 21 22 23 24 25 26 27 28 29 30 31 32 33 34 35 36 37]\n",
    "\n",
    "Z = np.arange(12, 38, dtype=int)\n",
    "print(Z)"
   ]
  },
  {
   "cell_type": "code",
   "execution_count": 12,
   "id": "6664eb48",
   "metadata": {},
   "outputs": [
    {
     "name": "stdout",
     "output_type": "stream",
     "text": [
      "[1. 2. 3. 4.]\n"
     ]
    }
   ],
   "source": [
    "# 5. Convert Array to Float Type\n",
    "# Write a NumPy program to convert an array to a floating type.\n",
    "\n",
    "# Sample output:\n",
    "\n",
    "# Original array [1, 2, 3, 4]\n",
    "arr = np.array([1, 2, 3, 4])\n",
    "arr = arr.astype(float)\n",
    "print(arr)"
   ]
  },
  {
   "cell_type": "code",
   "execution_count": 19,
   "id": "1c23ea0a",
   "metadata": {},
   "outputs": [
    {
     "name": "stdout",
     "output_type": "stream",
     "text": [
      "Fahrenheit: [ 32.     53.6   113.378  93.2   211.838  89.6  ]\n",
      "Centigrade: [ 0.   12.   45.21 34.   99.91 32.  ]\n",
      "Fahrenheit: [-4.0000e-03  1.2002e+01  4.5212e+01  3.3998e+01  9.9914e+01  3.2000e+01]\n",
      "Centigrade: [-17.78 -11.11   7.34   1.11  37.73   0.  ]\n"
     ]
    }
   ],
   "source": [
    "# 6. Celsius to Fahrenheit Conversion\n",
    "# Write a NumPy program to convert Centigrade degrees into Fahrenheit degrees. Centigrade values are stored in a NumPy array.\n",
    "\n",
    "# Sample Array [0, 12, 45.21, 34, 99.91, 32] [-17.78, -11.11, 7.34, 1.11, 37.73, 0. ]\n",
    "\n",
    "# Expected Output:\n",
    "\n",
    "# Values in Fahrenheit degrees: [ 0. 12. 45.21 34. 99.91 32. ]\n",
    "\n",
    "# Values in Centigrade degrees: [-17.78 -11.11 7.34 1.11 37.73 0. ]\n",
    "\n",
    "# Values in Centigrade degrees: [-17.78 -11.11 7.34 1.11 37.73 0. ]\n",
    "\n",
    "# Values in Fahrenheit degrees: [-0. 12. 45.21 34. 99.91 32. ]\n",
    "\n",
    "A = np.array([0, 12, 45.21, 34, 99.91, 32])\n",
    "B = np.array([-17.78, -11.11, 7.34, 1.11, 37.73, 0. ])\n",
    "\n",
    "Fahrenheit = A * 9 / 5 + 32\n",
    "print(f\"Fahrenheit: {Fahrenheit}\")\n",
    "print(f\"Centigrade: {A}\")\n",
    "Fahrenheit2 = B * 9 / 5 + 32\n",
    "print(f\"Fahrenheit: {Fahrenheit2}\")\n",
    "print(f\"Centigrade: {B}\")\n",
    "\n",
    "\n"
   ]
  },
  {
   "cell_type": "code",
   "execution_count": 20,
   "id": "756e0754",
   "metadata": {},
   "outputs": [
    {
     "name": "stdout",
     "output_type": "stream",
     "text": [
      "[10 20 30 40 50 60 70 80 90]\n"
     ]
    }
   ],
   "source": [
    "# 7. Append Values to Array (Do self-tudy)\n",
    "# Write a NumPy program to append values to the end of an array.\n",
    "\n",
    "# Expected Output:\n",
    "\n",
    "# Original array: [10, 20, 30]\n",
    "\n",
    "# After append values to the end of the array: [10 20 30 40 50 60 70 80 90]\n",
    "arr = np.array([10, 20, 30])\n",
    "newarr = np.array([40, 50, 60, 70, 80, 90])\n",
    "Z = np.append(arr,newarr)\n",
    "print(Z)"
   ]
  },
  {
   "cell_type": "code",
   "execution_count": 25,
   "id": "747519f9",
   "metadata": {},
   "outputs": [
    {
     "name": "stdout",
     "output_type": "stream",
     "text": [
      "Array: [47 57  9 94 61 94 87 39 81 56]\n",
      "Mean: 62.5\n",
      "Median: 59.0\n",
      "Standard deviation: 25.800193797721754\n"
     ]
    }
   ],
   "source": [
    "# 8. Array Statistical Functions (Do self-tudy)\n",
    "# Create a random NumPy array of 10 elements and calculate the mean, median, and standard deviation of the array.\n",
    "arr = np.array(np.random.randint(0, 100, size=10))\n",
    "print(f\"Array: {arr}\")\n",
    "print(f\"Mean: {np.mean(arr)}\")\n",
    "print(f\"Median: {np.median(arr)}\")\n",
    "print(f\"Standard deviation: {np.std(arr)}\")\n",
    "\n"
   ]
  },
  {
   "cell_type": "code",
   "execution_count": 28,
   "id": "83d818a0",
   "metadata": {},
   "outputs": [
    {
     "name": "stdout",
     "output_type": "stream",
     "text": [
      "Array: [[87 49 56  7 83 92 99  3 67  3]\n",
      " [96 90 30 56 33 75 21 22 28 37]\n",
      " [65 71  9 46 46 46 39 93 70 73]\n",
      " [25 27 57 14 80 68 52 43 31 85]\n",
      " [38 92 32  8 36 47  5 53 88 41]\n",
      " [82 30 80 37 13  3 47  6 29 48]\n",
      " [89 17 87 83 85 12 69 24 38 52]\n",
      " [94 62 30 27 43 54 92 10 13 60]\n",
      " [ 3 98  3 61 93 18 90 55 40 60]\n",
      " [43 26 32 46 98  4 63 49 81 44]]\n",
      "Max_value: 99\n",
      "Min_value: 3\n"
     ]
    }
   ],
   "source": [
    "# 9 Find min and max\n",
    "# Create a 10x10 array with random values and find the minimum and maximum values.\n",
    "Z = np.random.randint(1, 100, size=(10,10))\n",
    "print(f\"Array: {Z}\")\n",
    "print(f\"Max_value: {np.max(Z)}\")\n",
    "print(f\"Min_value: {np.min(Z)}\")"
   ]
  },
  {
   "cell_type": "code",
   "execution_count": 30,
   "id": "f5e614d6",
   "metadata": {},
   "outputs": [
    {
     "name": "stdout",
     "output_type": "stream",
     "text": [
      "[[[43 22 77]\n",
      "  [27 74 99]\n",
      "  [30 91 54]]\n",
      "\n",
      " [[73 71 39]\n",
      "  [25 80 91]\n",
      "  [73 80 18]]\n",
      "\n",
      " [[74 60 76]\n",
      "  [75 25 91]\n",
      "  [72 72 86]]]\n",
      "[[[0.69977325 0.32999523 0.65864555]\n",
      "  [0.2463434  0.37069243 0.65818276]\n",
      "  [0.68594562 0.30073318 0.89410652]]\n",
      "\n",
      " [[0.30868464 0.13055829 0.85659084]\n",
      "  [0.14189261 0.28784849 0.26542426]\n",
      "  [0.96191145 0.567372   0.10116281]]\n",
      "\n",
      " [[0.72047626 0.23206373 0.91937441]\n",
      "  [0.46943736 0.2130048  0.05790481]\n",
      "  [0.24675856 0.5367992  0.97963994]]]\n"
     ]
    }
   ],
   "source": [
    "# 10\n",
    "# Create a 3x3x3 array with random values.\n",
    "Z = np.random.randint(1,100, size=(3,3,3))\n",
    "print(Z)\n",
    "arr = np.random.random((3,3,3))\n",
    "print(arr)"
   ]
  }
 ],
 "metadata": {
  "kernelspec": {
   "display_name": "Python 3",
   "language": "python",
   "name": "python3"
  },
  "language_info": {
   "codemirror_mode": {
    "name": "ipython",
    "version": 3
   },
   "file_extension": ".py",
   "mimetype": "text/x-python",
   "name": "python",
   "nbconvert_exporter": "python",
   "pygments_lexer": "ipython3",
   "version": "3.13.2"
  }
 },
 "nbformat": 4,
 "nbformat_minor": 5
}
