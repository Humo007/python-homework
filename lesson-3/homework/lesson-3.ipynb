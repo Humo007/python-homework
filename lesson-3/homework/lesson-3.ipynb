{
 "cells": [
  {
   "cell_type": "code",
   "execution_count": 1,
   "metadata": {},
   "outputs": [
    {
     "data": {
      "text/plain": [
       "'banana'"
      ]
     },
     "execution_count": 1,
     "metadata": {},
     "output_type": "execute_result"
    }
   ],
   "source": [
    "# Homework: List and Tuple Exercises\n",
    "# 1. Create and Access List Elements\n",
    "# Create a list containing five different fruits and print the third fruit.\n",
    "\n",
    "fruits = ['apple', 'pear', 'banana', 'kiwi', 'strawberry']\n",
    "\n",
    "fruits[2]"
   ]
  },
  {
   "cell_type": "code",
   "execution_count": 4,
   "metadata": {},
   "outputs": [
    {
     "data": {
      "text/plain": [
       "[1, 2, 3, 4, 5, 6, 7, 8, 9, 10]"
      ]
     },
     "execution_count": 4,
     "metadata": {},
     "output_type": "execute_result"
    }
   ],
   "source": [
    "# 2. Concatenate Two Lists\n",
    "# Create two lists of numbers and concatenate them into a single list.\n",
    "list1 = [1, 2, 3, 4, 5]\n",
    "list2 = [6, 7, 8, 9, 10]\n",
    "\n",
    "result = list1 + list2\n",
    "result"
   ]
  },
  {
   "cell_type": "code",
   "execution_count": null,
   "metadata": {},
   "outputs": [
    {
     "name": "stdout",
     "output_type": "stream",
     "text": [
      "[11, 15, 20]\n"
     ]
    }
   ],
   "source": [
    "# 3. Extract Elements from a List\n",
    "# Given a list of numbers, extract the first, middle, and last elements and store them in a new list.\n",
    "numbers = [11, 12, 13, 14, 15, 16, 17, 18, 19, 20]\n",
    "newlist = []\n",
    "\n",
    "firstnum = numbers[0]\n",
    "middlenum = numbers[len(numbers) // 2] if len(numbers) % 2 != 0 else numbers[len(numbers) // 2 - 1]\n",
    "lastnum = numbers[-1]\n",
    "newlist = [firstnum, middlenum, lastnum] \n",
    "print(newlist)\n",
    "\n"
   ]
  },
  {
   "cell_type": "code",
   "execution_count": 24,
   "metadata": {},
   "outputs": [
    {
     "data": {
      "text/plain": [
       "('Harry Poter', 'Spiderman', 'The Joker', 'The Matrix', 'Intouchable')"
      ]
     },
     "execution_count": 24,
     "metadata": {},
     "output_type": "execute_result"
    }
   ],
   "source": [
    "# 4.Convert List to Tuple\n",
    "# Create a list of your five favorite movies and convert it into a tuple.\n",
    "movies = ['Harry Poter', 'Spiderman', 'The Joker', 'The Matrix', 'Intouchable']\n",
    "tpl = tuple(movies)\n",
    "tpl\n"
   ]
  },
  {
   "cell_type": "code",
   "execution_count": null,
   "metadata": {},
   "outputs": [
    {
     "name": "stdout",
     "output_type": "stream",
     "text": [
      "Paris is in the list.\n"
     ]
    }
   ],
   "source": [
    "# 5. Check Element in a List\n",
    "# Given a list of cities, check if \"Paris\" is in the list and print the result.\n",
    "cities = ['London', 'New-York', 'Tashkent', 'Moscow', 'Berlin', 'Ankara', 'Paris']\n",
    "\n",
    "\n",
    "if  'Paris' in cities:\n",
    "    print('Paris is in the list.')\n",
    "else:\n",
    "    print('Paris is not in the list!')\n",
    "    \n"
   ]
  },
  {
   "cell_type": "code",
   "execution_count": 49,
   "metadata": {},
   "outputs": [
    {
     "data": {
      "text/plain": [
       "[1, 2, 3, 4, 5, 6, 7, 1, 2, 3, 4, 5, 6, 7]"
      ]
     },
     "execution_count": 49,
     "metadata": {},
     "output_type": "execute_result"
    }
   ],
   "source": [
    "# 6. Duplicate a List Without Using Loops\n",
    "# Create a list of numbers and duplicate it without using loops.\n",
    "\n",
    "numbers = [1, 2, 3, 4, 5, 6, 7]\n",
    "dublicate_numbers = numbers*2\n",
    "dublicate_numbers"
   ]
  },
  {
   "cell_type": "code",
   "execution_count": 64,
   "metadata": {},
   "outputs": [
    {
     "data": {
      "text/plain": [
       "[7, 2, 3, 4, 5, 6, 1]"
      ]
     },
     "execution_count": 64,
     "metadata": {},
     "output_type": "execute_result"
    }
   ],
   "source": [
    "# 7. Swap First and Last Elements of a List\n",
    "# Given a list of numbers, swap the first and last elements.\n",
    "numbers = [1, 2, 3, 4, 5, 6, 7]\n",
    "numbers[0], numbers[-1] = numbers[-1], numbers[0]\n",
    "numbers\n"
   ]
  },
  {
   "cell_type": "code",
   "execution_count": 68,
   "metadata": {},
   "outputs": [
    {
     "data": {
      "text/plain": [
       "(4, 5, 6, 7, 8)"
      ]
     },
     "execution_count": 68,
     "metadata": {},
     "output_type": "execute_result"
    }
   ],
   "source": [
    "# 8. Slice a Tuple\n",
    "# Create a tuple of numbers from 1 to 10 and print a slice from index 3 to 7.\n",
    "tpl = (1, 2, 3, 4, 5, 6, 7, 8, 9, 10 )\n",
    "slice = tpl[3:8]\n",
    "slice"
   ]
  },
  {
   "cell_type": "code",
   "execution_count": null,
   "metadata": {},
   "outputs": [
    {
     "name": "stdout",
     "output_type": "stream",
     "text": [
      "Count of blue: 3\n"
     ]
    }
   ],
   "source": [
    "# 9. Count Occurrences in a List\n",
    "# Create a list of colors and count how many times \"blue\" appears in the list.\n",
    "colors = ['blue', 'red', 'green', 'grey', 'black', 'white', 'purple', 'blue', 'red', 'blue']\n",
    "cnt = colors.count('blue')\n",
    "print(f'Count of blues: {cnt}')"
   ]
  },
  {
   "cell_type": "code",
   "execution_count": 75,
   "metadata": {},
   "outputs": [
    {
     "name": "stdout",
     "output_type": "stream",
     "text": [
      "Lion's index:  3\n"
     ]
    }
   ],
   "source": [
    "# 10. Find the Index of an Element in a Tuple\n",
    "# Given a tuple of animals, find the index of \"lion\".\n",
    "animals = ('wolf', 'elephant', 'tiger', 'lion', 'zebra', 'jaguar', 'bear', 'giraffe')\n",
    "indexOfLion = animals.index(\"lion\")\n",
    "print(\"Lion's index: \", indexOfLion)"
   ]
  },
  {
   "cell_type": "code",
   "execution_count": 76,
   "metadata": {},
   "outputs": [
    {
     "data": {
      "text/plain": [
       "(1, 2, 3, 4, 5, 6, 7, 8, 9, 10, 11, 12, 13)"
      ]
     },
     "execution_count": 76,
     "metadata": {},
     "output_type": "execute_result"
    }
   ],
   "source": [
    "# 11. Merge Two Tuples\n",
    "# Create two tuples of numbers and merge them into a single tuple.\n",
    "tpl1 = (1, 2, 3, 4, 5, 6, 7)\n",
    "tpl2 = (8, 9, 10, 11, 12, 13)\n",
    "merge_tuple = tpl1 + tpl2\n",
    "merge_tuple\n"
   ]
  },
  {
   "cell_type": "code",
   "execution_count": 85,
   "metadata": {},
   "outputs": [
    {
     "name": "stdout",
     "output_type": "stream",
     "text": [
      "Length of a List: 6\n",
      "Length of a Tuple: 7\n"
     ]
    }
   ],
   "source": [
    "# 12. Find the Length of a List and Tuple\n",
    "# Given a list and a tuple, find and print their lengths.\n",
    "tpl = (1, 2, 3, 4, 5, 6, 7)\n",
    "lis = [8, 9, 10, 11, 12, 13]\n",
    "length_list = len(lis)\n",
    "length_tuple = len(tpl)\n",
    "print(f\"Length of a List: {length_list}\\nLength of a Tuple: {length_tuple}\")"
   ]
  },
  {
   "cell_type": "code",
   "execution_count": 91,
   "metadata": {},
   "outputs": [
    {
     "data": {
      "text/plain": [
       "[11, 22, 33, 44, 55]"
      ]
     },
     "execution_count": 91,
     "metadata": {},
     "output_type": "execute_result"
    }
   ],
   "source": [
    "# 13. Convert Tuple to List\n",
    "# Create a tuple of five numbers and convert it into a list.\n",
    "tupnum = (11, 22, 33, 44, 55)\n",
    "# lisnum = []\n",
    "# for i in tupnum:\n",
    "#     lisnum.append(i)\n",
    "lisnum = list(tupnum)\n",
    "lisnum"
   ]
  },
  {
   "cell_type": "code",
   "execution_count": 101,
   "metadata": {},
   "outputs": [
    {
     "name": "stdout",
     "output_type": "stream",
     "text": [
      "MAX value: 44.\n",
      "MIN value -5\n"
     ]
    }
   ],
   "source": [
    "# 14. Find Maximum and Minimum in a Tuple\n",
    "# Given a tuple of numbers, find and print the maximum and minimum values.\n",
    "tp = (2, 4, 5, 1, 7, 3, -5, 33, 44, 29)\n",
    "# maxnum = tp[0]\n",
    "# minnum = tp[0]\n",
    "# for i in tp:\n",
    "#     if i > maxnum:\n",
    "#         maxnum = i\n",
    "#     if i < minnum:\n",
    "#         minnum = i\n",
    "maxnum = max(tp)\n",
    "minnum = min(tp)\n",
    "\n",
    "print(f\"MAX value: {maxnum}.\\nMIN value {minnum}\")\n"
   ]
  },
  {
   "cell_type": "code",
   "execution_count": 107,
   "metadata": {},
   "outputs": [
    {
     "data": {
      "text/plain": [
       "('Go', 'PHP', 'SQL', 'Javascript', 'Java', 'C', 'C++', 'Python')"
      ]
     },
     "execution_count": 107,
     "metadata": {},
     "output_type": "execute_result"
    }
   ],
   "source": [
    "# 15. Reverse a Tuple\n",
    "# Create a tuple of words and print it in reverse order.\n",
    "tp = ('Python', 'C++', 'C', 'Java', 'Javascript', 'SQL', 'PHP', 'Go')\n",
    "#reverseTuple = tp[::-1]\n",
    "reverseTuple = tuple(reversed(tp))\n",
    "reverseTuple"
   ]
  }
 ],
 "metadata": {
  "kernelspec": {
   "display_name": "Python 3",
   "language": "python",
   "name": "python3"
  },
  "language_info": {
   "codemirror_mode": {
    "name": "ipython",
    "version": 3
   },
   "file_extension": ".py",
   "mimetype": "text/x-python",
   "name": "python",
   "nbconvert_exporter": "python",
   "pygments_lexer": "ipython3",
   "version": "3.13.2"
  }
 },
 "nbformat": 4,
 "nbformat_minor": 2
}
