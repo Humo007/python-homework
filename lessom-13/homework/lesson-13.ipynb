{
 "cells": [
  {
   "cell_type": "markdown",
   "id": "3e4bdf43",
   "metadata": {},
   "source": [
    "#Datetime, Regulare Expressions"
   ]
  },
  {
   "cell_type": "code",
   "execution_count": 1,
   "id": "b28cda15",
   "metadata": {},
   "outputs": [],
   "source": [
    "import datetime"
   ]
  },
  {
   "cell_type": "code",
   "execution_count": null,
   "id": "a6419a80",
   "metadata": {},
   "outputs": [],
   "source": [
    "#1. Age Calculator: Ask the user to enter their birthdate. \n",
    "# Calculate and print their age in years, months, and days.\n",
    "from datetime import date, datetime\n",
    "user_birthdate = input(\"Enter your birthdate (dd.mm.yyyy): \")\n",
    "today = date.today()\n",
    "birthdate = datetime.strptime(user_birthdate, '%d.%m.%Y').date()\n",
    "years = today.year - birthdate.year\n",
    "months = today.month - birthdate.month\n",
    "days = today.day - birthdate.day\n",
    "if days < 0:\n",
    "    months -= 1\n",
    "    preevious_month = (today.month - 1) or 12\n",
    "    day_in_prev_month = (date(today.year if preevious_month != 12 else today.year - 1, preevious_month + 1, 1) - date(today.year if preevious_month != 12 else today.year -1, preevious_month, 1)).days\n",
    "    days += day_in_prev_month\n",
    "if months < 0:\n",
    "    years -= 1\n",
    "    months += 12\n",
    "\n",
    "print(f\"You are {years} years, {months} months and {days} days old.\")\n",
    " "
   ]
  },
  {
   "cell_type": "code",
   "execution_count": null,
   "id": "e6fa3792",
   "metadata": {},
   "outputs": [
    {
     "name": "stdout",
     "output_type": "stream",
     "text": [
      "Your birthday is 286 days away.\n"
     ]
    }
   ],
   "source": [
    "# 2. Days Until Next Birthday: Similar to the first exercise, \n",
    "# but this time, calculate and print the number of days \n",
    "# remaining until the user's next birthday.\n",
    "from datetime import date, datetime\n",
    "user_birthdate = input(\"Enter your birthdate (dd.mm.yyyy): \")\n",
    "today = date.today()\n",
    "birthdate = datetime.strptime(user_birthdate, '%d.%m.%Y').date()\n",
    "this_year_birthday = date(today.year, birthdate.month, birthdate.day)\n",
    "\n",
    "if this_year_birthday < today:\n",
    "    next_birthday = date(today.year + 1, birthdate.month, birthdate.day)\n",
    "else:\n",
    "    next_birthday = this_year_birthday\n",
    "\n",
    "days_until_birthday = (next_birthday - today).days\n",
    "\n",
    "print(f\"Your birthday is {days_until_birthday} days away.\")"
   ]
  },
  {
   "cell_type": "code",
   "execution_count": null,
   "id": "6bf69467",
   "metadata": {},
   "outputs": [
    {
     "name": "stdout",
     "output_type": "stream",
     "text": [
      "Meeting will end at:  12.04.2026 14:20\n"
     ]
    }
   ],
   "source": [
    "# 3. Meeting Scheduler: Ask the user to enter the current date and time, \n",
    "# as well as the duration of a meeting in hours and minutes. \n",
    "# Calculate and print the date and time when the meeting will end.\n",
    "from datetime import timedelta, datetime\n",
    "meeting_start_str = input(\"Enter the start date and time (dd.mm.yyyy HH:MM): \")\n",
    "meeting_start = datetime.strptime(meeting_start_str, \"%d.%m.%Y %H:%M\")\n",
    "\n",
    "hours = int(input(\"Enter meeting duration (hours): \"))\n",
    "minutes = int(input(\"Enter meeting duration (minutes): \"))\n",
    "\n",
    "duration = timedelta(hours=hours, minutes=minutes)\n",
    "end_datetime = meeting_start + duration\n",
    "\n",
    "print(\"Meeting will end at: \", end_datetime.strftime(\"%d.%m.%Y %H:%M\"))"
   ]
  },
  {
   "cell_type": "code",
   "execution_count": null,
   "id": "040b970c",
   "metadata": {},
   "outputs": [
    {
     "name": "stdout",
     "output_type": "stream",
     "text": [
      "\n",
      "Your time in Asia/Tashkent: 22.04.2025 21:30\n",
      "Converted time in America/New_York: 22.04.2025 12:30\n"
     ]
    }
   ],
   "source": [
    "# 4. Timezone Converter: Create a program that allows the user to enter a date and time along with their current timezone, \n",
    "# and then convert and print the date and time in another timezone of their choice.\n",
    "from datetime import datetime\n",
    "from zoneinfo import ZoneInfo\n",
    "datetime_str = input(\"Enter the date and time (dd.mm.yyyy HH:MM): \")\n",
    "from_timezone = input(\"Enter your current timezone (e.g. Asia/Tashkent): \")\n",
    "to_timezone = input(\"Enter the target timezone(e.g. America/New_York): \")\n",
    "\n",
    "naive_datetime = datetime.strptime(datetime_str, \"%d.%m.%Y %H:%M\")\n",
    "from_dt = naive_datetime.replace(tzinfo=ZoneInfo(from_timezone))\n",
    "to_dt = from_dt.astimezone(ZoneInfo(to_timezone))\n",
    "\n",
    "print(f\"\\nYour time in {from_timezone}: {from_dt.strftime(\"%d.%m.%Y %H:%M\")}\")\n",
    "print(f\"Converted time in {to_timezone}: {to_dt.strftime(\"%d.%m.%Y %H:%M\")}\")"
   ]
  },
  {
   "cell_type": "code",
   "execution_count": 4,
   "id": "d1b6cd0f",
   "metadata": {},
   "outputs": [
    {
     "name": "stdout",
     "output_type": "stream",
     "text": [
      "\n",
      "⏰ Time's up!\n",
      "Time remaining: 0 00 hours, 00 minutes, 00 seconds\r"
     ]
    }
   ],
   "source": [
    "# 5. Countdown Timer: Implement a countdown timer. Ask the user to input a future date and time, \n",
    "# and then continuously print the time remaining until that point in regular intervals (e.g., every second).\n",
    "import time\n",
    "from datetime import datetime\n",
    "\n",
    "target_str = input(\"Enter the future date and time (format: YYYY-MM-DD HH:MM:SS): \")\n",
    "try:\n",
    "    target_time = datetime.strptime(target_str, \"%Y-%m-%d %H:%M:%S\" )\n",
    "except ValueError:\n",
    "    print(\"❌ Invalid format. Please use YYYY-MM-DD HH:MM:SS\")\n",
    "\n",
    "while True:\n",
    "    now = datetime.now()\n",
    "    remaining = target_time - now\n",
    "\n",
    "    if remaining.total_seconds() <= 0:\n",
    "        print(\"\\n⏰ Time's up!\")\n",
    "        break\n",
    "\n",
    "days = remaining.days\n",
    "hours, rem = divmod(remaining.seconds, 3600)\n",
    "minutes, seconds = divmod(rem, 60)\n",
    "\n",
    "print(f\"Time remaining: {days} {hours:02} hours, {minutes:02} minutes, {seconds:02} seconds\", end='\\r')\n",
    "time.sleep(1)"
   ]
  },
  {
   "cell_type": "code",
   "execution_count": 5,
   "id": "d6041ed3",
   "metadata": {},
   "outputs": [
    {
     "name": "stdout",
     "output_type": "stream",
     "text": [
      "✅ Valid email address.\n"
     ]
    }
   ],
   "source": [
    "# 6. Email Validator: Write a program that validates email addresses.\n",
    "#  Ask the user to input an email address, and check if it follows a valid email format.\n",
    "import re\n",
    "email = input(\"Enter your email address: \")\n",
    "pattern = r'^[\\w\\.-]+@[\\w\\.-]+\\.\\w{2,}$'\n",
    "\n",
    "if re.match(pattern, email):\n",
    "    print(\"✅ Valid email address.\")\n",
    "else:\n",
    "    print(\"❌ Invalid email address.\")"
   ]
  },
  {
   "cell_type": "code",
   "execution_count": 9,
   "id": "bf5968d2",
   "metadata": {},
   "outputs": [
    {
     "name": "stdout",
     "output_type": "stream",
     "text": [
      "Formatted Phone Number:  (123) 123-1234\n"
     ]
    }
   ],
   "source": [
    "# 7. Phone Number Formatter: Create a program that takes a phone number as input and formats it according to a standard format. \n",
    "# For example, convert \"1234567890\" to \"(123) 456-7890\".\n",
    "import re \n",
    "phone_number = input(\"Enter a 10-digit phone number: \")\n",
    "digits = re.sub(r\"\\D\", \"\", phone_number)\n",
    "\n",
    "if len(digits) == 10:\n",
    "    formatted = f\"({digits[:3]}) {digits[3:6]}-{digits[6:]}\"\n",
    "    print(\"Formatted Phone Number: \", formatted)\n",
    "else:\n",
    "    print(\"❌ Invalid phone number. Please enter exactly 10 digits.\")\n",
    "    "
   ]
  },
  {
   "cell_type": "code",
   "execution_count": 11,
   "id": "3722913c",
   "metadata": {},
   "outputs": [
    {
     "name": "stdout",
     "output_type": "stream",
     "text": [
      "❌ Weak password. Your password must: \n",
      "- Be at least 8 characters long.\n",
      "- Include at least one uppercase letter.\n",
      "- Inculude at least one digit.\n"
     ]
    }
   ],
   "source": [
    "# 8. Password Strength Checker: Implement a password strength checker. \n",
    "# Ask the user to input a password and check if it meets certain criteria (e.g., \n",
    "# minimum length, contains at least one uppercase letter, one lowercase letter, and one digit).\n",
    "import re\n",
    "password = input(\"Enter your password: \")\n",
    "\n",
    "length_ok = len(password) >= 8\n",
    "has_upper = re.search(r\"[A-Z]\", password)\n",
    "has_lower = re.search(r\"[a-z]\", password)\n",
    "has_digit = re.search(r\"\\d\", password)\n",
    "\n",
    "if length_ok and has_upper and has_lower and has_digit:\n",
    "    print(\"✅Strong password.\")\n",
    "else:\n",
    "    print(\"❌ Weak password. Your password must: \")\n",
    "    if not length_ok:\n",
    "        print(\"- Be at least 8 characters long.\")\n",
    "    if not has_upper:\n",
    "        print(\"- Include at least one uppercase letter.\")\n",
    "    if not has_lower:\n",
    "        print(\"- Include at least one lowercase letter.\")\n",
    "    if not has_digit:\n",
    "        print(\"- Inculude at least one digit.\")\n"
   ]
  },
  {
   "cell_type": "code",
   "execution_count": 12,
   "id": "bd946411",
   "metadata": {},
   "outputs": [
    {
     "name": "stdout",
     "output_type": "stream",
     "text": [
      "\n",
      "Searching for \"Ali\"...\n",
      "\n",
      "Found at position 19-22: 'Ali'\n",
      "Found at position 93-96: 'ali'\n"
     ]
    }
   ],
   "source": [
    "# 9. Word Finder: Develop a program that finds all occurrences of a specific word in a given text. \n",
    "# Ask the user to input a word, and then search for and print all occurrences of that word in a sample text.\n",
    "\n",
    "import re \n",
    "with open(\"test.txt\", 'r', encoding=\"utf-8\") as f:\n",
    "    text = f.read()\n",
    "    word = input(\"Enter the word to search for: \")\n",
    "\n",
    "    pattern = rf'\\b{re.escape(word)}\\b'\n",
    "    matches = re.finditer(pattern, text, re.IGNORECASE)\n",
    "\n",
    "    found = False\n",
    "\n",
    "    print (f'\\nSearching for \"{word}\"...\\n')\n",
    "\n",
    "    for match in matches:\n",
    "        found = True\n",
    "        print(f\"Found at position {match.start()}-{match.end()}: '{match.group()}'\")\n",
    "\n",
    "    if not found:\n",
    "        print(\"No occurrences found.\")"
   ]
  },
  {
   "cell_type": "code",
   "execution_count": 16,
   "id": "fdad6eea",
   "metadata": {},
   "outputs": [
    {
     "name": "stdout",
     "output_type": "stream",
     "text": [
      "\n",
      "✅ Dates found: \n",
      "- 2-6-2000\n"
     ]
    }
   ],
   "source": [
    "# 10. Date Extractor: Write a program that extracts dates from a given text. \n",
    "# Ask the user to input a text, and then identify and print all the dates present in the text.\n",
    "\n",
    "import re\n",
    "text = input(\"Enter the text: \")\n",
    "date_pattern = r'\\b(?:\\d{1,2}[/-]\\d{1,2}[/-]\\d{2,4}|\\d{4}[/-]\\d{1,2}[/-]\\d{1,2})\\b'\n",
    "\n",
    "dates = re.findall(date_pattern, text)\n",
    "\n",
    "if dates:\n",
    "    print(\"\\n✅ Dates found: \")\n",
    "    for d in dates:\n",
    "        print(f\"- {d}\")\n",
    "else:\n",
    "    print(\"❌ No dates found in the text.\")"
   ]
  }
 ],
 "metadata": {
  "kernelspec": {
   "display_name": "Python 3",
   "language": "python",
   "name": "python3"
  },
  "language_info": {
   "codemirror_mode": {
    "name": "ipython",
    "version": 3
   },
   "file_extension": ".py",
   "mimetype": "text/x-python",
   "name": "python",
   "nbconvert_exporter": "python",
   "pygments_lexer": "ipython3",
   "version": "3.13.2"
  }
 },
 "nbformat": 4,
 "nbformat_minor": 5
}
