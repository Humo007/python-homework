{
 "cells": [
  {
   "cell_type": "code",
   "execution_count": 2,
   "metadata": {},
   "outputs": [
    {
     "data": {
      "text/plain": [
       "{'C': 98, 'B': 94, 'A': 88, 'D': 58, 'E': 48}"
      ]
     },
     "execution_count": 2,
     "metadata": {},
     "output_type": "execute_result"
    }
   ],
   "source": [
    "# Python Dictionary and Set Exercises\n",
    "# Dictionary Exercises\n",
    "# 1. Sort a Dictionary by Value\n",
    "# Write a Python script to sort (ascending and descending) a dictionary by value.\n",
    "\n",
    "d = {'A': 88, 'B': 94, 'C': 98, 'D': 58, 'E': 48}\n",
    "d = dict(sorted(d.items(), key = lambda x: x[1], reverse=True ))\n",
    "d"
   ]
  },
  {
   "cell_type": "code",
   "execution_count": 6,
   "metadata": {},
   "outputs": [
    {
     "name": "stdout",
     "output_type": "stream",
     "text": [
      "{0: 10, 1: 20, 2: 30}\n"
     ]
    }
   ],
   "source": [
    "# 2. Add a Key to a Dictionary\n",
    "# Write a Python script to add a key to a dictionary.\n",
    "\n",
    "# Sample Dictionary:\n",
    "\n",
    "dic = {0: 10, 1: 20}\n",
    "dic.update({2:30})\n",
    "print(dic)"
   ]
  },
  {
   "cell_type": "code",
   "execution_count": 7,
   "metadata": {},
   "outputs": [
    {
     "name": "stdout",
     "output_type": "stream",
     "text": [
      "{1: 10, 2: 20, 3: 30, 4: 40, 5: 50, 6: 60}\n"
     ]
    }
   ],
   "source": [
    "# 3. Concatenate Multiple Dictionaries\n",
    "# Write a Python script to concatenate the following dictionaries to create a new one.\n",
    "\n",
    "# Sample Dictionaries:\n",
    "\n",
    "dic1 = {1: 10, 2: 20}\n",
    "dic2 = {3: 30, 4: 40}\n",
    "dic3 = {5: 50, 6: 60}\n",
    "dic4 = {}\n",
    "for i in (dic1, dic2, dic3):\n",
    "    dic4.update(i)\n",
    "print(dic4)"
   ]
  },
  {
   "cell_type": "code",
   "execution_count": 12,
   "metadata": {},
   "outputs": [
    {
     "name": "stdout",
     "output_type": "stream",
     "text": [
      "{1: 1, 2: 4, 3: 9, 4: 16, 5: 25}\n"
     ]
    }
   ],
   "source": [
    "# 4. Generate a Dictionary with Squares\n",
    "# Write a Python script to generate and print a dictionary that contains a number (between 1 and n) in the form (x, x*x).\n",
    "\n",
    "# Sample Dictionary (n = 5):\n",
    "n = int(input('Please enter the last number: '))\n",
    "dic = {}\n",
    "\n",
    "for i in range(1, n + 1):\n",
    "    dic[i] = i ** 2\n",
    "\n",
    "print(dic)"
   ]
  },
  {
   "cell_type": "code",
   "execution_count": 13,
   "metadata": {},
   "outputs": [
    {
     "name": "stdout",
     "output_type": "stream",
     "text": [
      "{1: 1, 2: 4, 3: 9, 4: 16, 5: 25, 6: 36, 7: 49, 8: 64, 9: 81, 10: 100, 11: 121, 12: 144, 13: 169, 14: 196, 15: 225}\n"
     ]
    }
   ],
   "source": [
    "# <!-- 5. Dictionary of Squares (1 to 15)\n",
    "# Write a Python script to print a dictionary where the keys are numbers between 1 and 15 (both included) and the values are the square of the keys. -->\n",
    "di = dict()\n",
    "\n",
    "for key in range(1, 16):\n",
    "    di[key] = key ** 2\n",
    "print(di)\n"
   ]
  },
  {
   "cell_type": "code",
   "execution_count": 39,
   "metadata": {},
   "outputs": [
    {
     "name": "stdout",
     "output_type": "stream",
     "text": [
      "{'apple', 1, 'sumsung', (1, 3)}\n"
     ]
    }
   ],
   "source": [
    "# Set Exercises\n",
    "# 1. Create a Set\n",
    "# Write a Python program to create a set.\n",
    "\n",
    "\n",
    "s1 = set((1, 'apple', 'sumsung', (1, 3,)))\n",
    "print(s1)\n"
   ]
  },
  {
   "cell_type": "code",
   "execution_count": null,
   "metadata": {},
   "outputs": [
    {
     "name": "stdout",
     "output_type": "stream",
     "text": [
      "32\n",
      "1\n",
      "A\n",
      "B\n",
      "(21, 33, 61)\n"
     ]
    }
   ],
   "source": [
    "#2. Iterate Over a Set\n",
    "# Write a Python program to iterate over sets.\n",
    "s2= set((1, 'A', 'B', 32, (21, 33, 61)))\n",
    "for i in s2:\n",
    "    print(i)\n"
   ]
  },
  {
   "cell_type": "code",
   "execution_count": 55,
   "metadata": {},
   "outputs": [
    {
     "data": {
      "text/plain": [
       "{1, 2, 3, 4, 5, 6, 7, 8}"
      ]
     },
     "execution_count": 55,
     "metadata": {},
     "output_type": "execute_result"
    }
   ],
   "source": [
    "# 3. Add Member(s) to a Set\n",
    "# Write a Python program to add member(s) to a set.\n",
    "s = {1, 2, 3, 4, 5, 6}\n",
    "s.update([6, 7, 8])\n",
    "s"
   ]
  },
  {
   "cell_type": "code",
   "execution_count": 51,
   "metadata": {},
   "outputs": [
    {
     "data": {
      "text/plain": [
       "{2, 4, 5}"
      ]
     },
     "execution_count": 52,
     "metadata": {},
     "output_type": "execute_result"
    }
   ],
   "source": [
    "# 4. Remove Item(s) from a Set\n",
    "# Write a Python program to remove item(s) from a given set.\n",
    "s = {1, 2, 3, 4, 5, 6}\n",
    "s.remove(3)\n",
    "s.pop()\n",
    "s.discard(6)\n",
    "s"
   ]
  },
  {
   "cell_type": "code",
   "execution_count": 59,
   "metadata": {},
   "outputs": [
    {
     "data": {
      "text/plain": [
       "{22, 33, 44, 55, 66, 77, 88, 99}"
      ]
     },
     "execution_count": 59,
     "metadata": {},
     "output_type": "execute_result"
    }
   ],
   "source": [
    "# 5. Remove an Item if Present in the Set\n",
    "# Write a Python program to remove an item from a set if it is present in the set.\n",
    "s = {11, 22, 33, 44, 55, 66, 77, 88, 99}\n",
    "if 11 in s:\n",
    "    s.discard(11)\n",
    "s    "
   ]
  }
 ],
 "metadata": {
  "kernelspec": {
   "display_name": "Python 3",
   "language": "python",
   "name": "python3"
  },
  "language_info": {
   "codemirror_mode": {
    "name": "ipython",
    "version": 3
   },
   "file_extension": ".py",
   "mimetype": "text/x-python",
   "name": "python",
   "nbconvert_exporter": "python",
   "pygments_lexer": "ipython3",
   "version": "3.13.2"
  }
 },
 "nbformat": 4,
 "nbformat_minor": 2
}
