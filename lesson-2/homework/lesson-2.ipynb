{
 "cells": [
  {
   "cell_type": "code",
   "execution_count": 1,
   "metadata": {},
   "outputs": [
    {
     "name": "stdout",
     "output_type": "stream",
     "text": [
      "HUMO, you are 25 years old. \n"
     ]
    }
   ],
   "source": [
    "import datetime\n",
    "#1. Age Calculator\n",
    "#Write a Python program to ask for a user's name and year of birth, then calculate and display their age.\n",
    "name = input('Please enter your name: ')\n",
    "year = int(input(\"Please enter your year of birth: \"))\n",
    "now = datetime.datetime.now().year\n",
    "print(f\"{name}, you are {now - year } years old. \")"
   ]
  },
  {
   "cell_type": "code",
   "execution_count": null,
   "metadata": {},
   "outputs": [
    {
     "name": "stdout",
     "output_type": "stream",
     "text": [
      "First car is Lasetti,\n",
      "Second car is Malibu\n"
     ]
    }
   ],
   "source": [
    "#2. Extract Car Names\n",
    "#Extract car names from the following text:\n",
    "txt = 'LMaasleitbtui'\n",
    "car1 = txt[::2]\n",
    "car2 = txt[1::2]\n",
    "print(F'''First car is {car1},\n",
    "Second car is {car2}.''')"
   ]
  },
  {
   "cell_type": "code",
   "execution_count": 5,
   "metadata": {},
   "outputs": [
    {
     "name": "stdout",
     "output_type": "stream",
     "text": [
      "First car is Matiz,\n",
      "Second car is Damas.\n"
     ]
    }
   ],
   "source": [
    "# 3. Extract Car Names\n",
    "# Extract car names from the following text:\n",
    "txt = 'MsaatmiazD'\n",
    "car1 = txt[::2]\n",
    "car2 = txt[::-2]\n",
    "print(F'''First car is {car1},\n",
    "Second car is {car2}.''')"
   ]
  },
  {
   "cell_type": "code",
   "execution_count": 7,
   "metadata": {},
   "outputs": [
    {
     "name": "stdout",
     "output_type": "stream",
     "text": [
      "London\n"
     ]
    }
   ],
   "source": [
    "# 4. Extract Residence Area\n",
    "# Extract the residence area from the following text:\n",
    "txt = \"I'am John. I am from London\"\n",
    "residence = txt[21:]\n",
    "print(residence)"
   ]
  },
  {
   "cell_type": "code",
   "execution_count": 8,
   "metadata": {},
   "outputs": [
    {
     "name": "stdout",
     "output_type": "stream",
     "text": [
      "Revese format -> mukala umolassA\n"
     ]
    }
   ],
   "source": [
    "# 5. Reverse String\n",
    "# Write a Python program that takes a user input string and prints it in reverse order.\n",
    "text = input('>>> ')\n",
    "print(f\"Revese format -> {text[::-1]}\")"
   ]
  },
  {
   "cell_type": "code",
   "execution_count": 18,
   "metadata": {},
   "outputs": [
    {
     "name": "stdout",
     "output_type": "stream",
     "text": [
      "o'zbekiston o'lka\n",
      "Number of vowels are 6.\n"
     ]
    }
   ],
   "source": [
    "# 6. Count Vowels\n",
    "# Write a Python program that counts the number of vowels in a given string.\n",
    "text = input(\"Enter the text: \")\n",
    "text = text.lower()\n",
    "print(text)\n",
    "list = ['a', 'o', 'e', 'i', 'u', \"o'\"]\n",
    "cnt = 0\n",
    "for i in text:\n",
    "    if i in list:\n",
    "        cnt += 1\n",
    "\n",
    "print(f\"Number of vowels are {cnt}.\")"
   ]
  },
  {
   "cell_type": "code",
   "execution_count": null,
   "metadata": {},
   "outputs": [
    {
     "name": "stdout",
     "output_type": "stream",
     "text": [
      "Maximum number is 342\n"
     ]
    }
   ],
   "source": [
    "# 7. Find Maximum Value\n",
    "# Write a Python program that takes a list of numbers as input and prints the maximum value.\n",
    "list = [1, 4, 5, 66, 342, 3, 0]\n",
    "print(f'Maximum number is {max(list)}.')"
   ]
  },
  {
   "cell_type": "code",
   "execution_count": 22,
   "metadata": {},
   "outputs": [
    {
     "name": "stdout",
     "output_type": "stream",
     "text": [
      "No Palindrome!\n"
     ]
    }
   ],
   "source": [
    "# 8. Check Palindrome\n",
    "# Write a Python program that checks if a given word is a palindrome (reads the same forward and backward).\n",
    "text = input(\"Enter the text: \")\n",
    "retext = text[::-1]\n",
    "if text == retext:\n",
    "    print(\"Palindrome!\")\n",
    "else:\n",
    "   print(\"No Palindrome!\")   "
   ]
  },
  {
   "cell_type": "code",
   "execution_count": 23,
   "metadata": {},
   "outputs": [
    {
     "name": "stdout",
     "output_type": "stream",
     "text": [
      "Domain -> gmail.com\n"
     ]
    }
   ],
   "source": [
    "# 9. Extract Email Domain\n",
    "# Write a Python program that extracts and prints the domain from an email address provided by the user.\n",
    "email = input(\"Enter your email: \")\n",
    "domain = email.split('@')[-1]\n",
    "print(f\"Domain -> {domain}\")"
   ]
  },
  {
   "cell_type": "code",
   "execution_count": 14,
   "metadata": {},
   "outputs": [
    {
     "name": "stdout",
     "output_type": "stream",
     "text": [
      "Random password:  X_Psf@Z`ui[XaDmz#xwvW+W_vs8F_uy`GsL6#lE(U5Rx+c^S'My)#gU4=jDay!d%lkrv<]BW2QtD,^Gmz./i|JOh\n"
     ]
    }
   ],
   "source": [
    "import random\n",
    "import string\n",
    "# 10. Generate Random Password\n",
    "# Write a Python program to generate a random password containing letters, digits, and special characters.\n",
    "def generate_password(length : int):\n",
    " characters = string.ascii_letters + string.digits + string.punctuation\n",
    " password = ''.join(random.choice(characters) for _ in range(length))\n",
    " return password\n",
    "\n",
    "length = int(input('Please enter the password length: '))\n",
    "print(\"Random password: \", generate_password(length))"
   ]
  }
 ],
 "metadata": {
  "kernelspec": {
   "display_name": "Python 3",
   "language": "python",
   "name": "python3"
  },
  "language_info": {
   "codemirror_mode": {
    "name": "ipython",
    "version": 3
   },
   "file_extension": ".py",
   "mimetype": "text/x-python",
   "name": "python",
   "nbconvert_exporter": "python",
   "pygments_lexer": "ipython3",
   "version": "3.13.2"
  }
 },
 "nbformat": 4,
 "nbformat_minor": 2
}
