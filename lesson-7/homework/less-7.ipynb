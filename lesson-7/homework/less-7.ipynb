#Homework
# 1. is_prime(n) funksiyasi
# is_prime(n) funksiyasini hosil qiling (n > 0). Agar n soni tub bo'lsa True, aks holda False qiymat qaytarsin.
def is_prime(n):
    if n < 2:
        return False
    for i in range(2, int(n**0.5) + 1):
        if n % i == 0:
            return False
    return True
is_prime(31)


# 2. digit_sum(k) funksiyasi
# digit_sum(k) funksiyasini yozing, u k sonining raqamlari yig'indisini hisoblaydi.

def digit_sum(k):
   
    sum = 0
    while k > 0:
        lastnum = k % 10
        sum += lastnum
        k = k // 10
    return sum

print(digit_sum(502))

# 3. Ikki sonning darajalari
# Berilgan N sonidan oshmaydigan barcha 2 ning darajalarini (ya'ni, 2**k shaklidagi sonlarni) chop etuvchi funksiyani yozing.
# def is_powers_two(limit:int):
#     k = 0
#     while 2**k < limit:
#         print(f"{2**k}")
#         k += 1

# (is_powers_two(20))

# def is_powers_two(limit: int):
#     for k in range(limit):
#         power = 2 ** k
#         if power > limit:
#             break
#         else:
#             print(power)
# is_powers_two(20)

def is_powers_two_recursive(limit: int, k = 0):
    if 2**k > limit:
        return
    else:
        print(f"{2**k}")
    is_powers_two_recursive(limit, k + 1)

is_powers_two_recursive(60)
