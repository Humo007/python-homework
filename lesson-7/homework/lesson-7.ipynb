{
 "cells": [
  {
   "cell_type": "markdown",
   "metadata": {},
   "source": [
    "#Homework"
   ]
  },
  {
   "cell_type": "code",
   "execution_count": null,
   "metadata": {},
   "outputs": [
    {
     "data": {
      "text/plain": [
       "True"
      ]
     },
     "execution_count": 12,
     "metadata": {},
     "output_type": "execute_result"
    }
   ],
   "source": [
    "# 1. is_prime(n) funksiyasi\n",
    "# is_prime(n) funksiyasini hosil qiling (n > 0). Agar n soni tub bo'lsa True, aks holda False qiymat qaytarsin.\n",
    "def is_prime(n):\n",
    "    if n < 2:\n",
    "        return False\n",
    "    for i in range(2, int(n**0.5) + 1):\n",
    "        if n % i == 0:\n",
    "            return False\n",
    "    return True\n",
    "is_prime(31)\n",
    "\n"
   ]
  },
  {
   "cell_type": "code",
   "execution_count": 18,
   "metadata": {},
   "outputs": [
    {
     "name": "stdout",
     "output_type": "stream",
     "text": [
      "7\n"
     ]
    }
   ],
   "source": [
    "# 2. digit_sum(k) funksiyasi\n",
    "# digit_sum(k) funksiyasini yozing, u k sonining raqamlari yig'indisini hisoblaydi.\n",
    "\n",
    "def digit_sum(k):\n",
    "   \n",
    "    sum = 0\n",
    "    while k > 0:\n",
    "        lastnum = k % 10\n",
    "        sum += lastnum\n",
    "        k = k // 10\n",
    "    return sum\n",
    "\n",
    "print(digit_sum(502))\n"
   ]
  },
  {
   "cell_type": "code",
   "execution_count": 35,
   "metadata": {},
   "outputs": [
    {
     "name": "stdout",
     "output_type": "stream",
     "text": [
      "1\n",
      "2\n",
      "4\n",
      "8\n",
      "16\n",
      "32\n"
     ]
    }
   ],
   "source": [
    "# 3. Ikki sonning darajalari\n",
    "# Berilgan N sonidan oshmaydigan barcha 2 ning darajalarini (ya'ni, 2**k shaklidagi sonlarni) chop etuvchi funksiyani yozing.\n",
    "# def is_powers_two(limit:int):\n",
    "#     k = 0\n",
    "#     while 2**k < limit:\n",
    "#         print(f\"{2**k}\")\n",
    "#         k += 1\n",
    "\n",
    "# (is_powers_two(20))\n",
    "\n",
    "# def is_powers_two(limit: int):\n",
    "#     for k in range(limit):\n",
    "#         power = 2 ** k\n",
    "#         if power > limit:\n",
    "#             break\n",
    "#         else:\n",
    "#             print(power)\n",
    "# is_powers_two(20)\n",
    "\n",
    "def is_powers_two_recursive(limit: int, k = 0):\n",
    "    if 2**k > limit:\n",
    "        return\n",
    "    else:\n",
    "        print(f\"{2**k}\")\n",
    "    is_powers_two_recursive(limit, k + 1)\n",
    "\n",
    "is_powers_two_recursive(60)\n"
   ]
  }
 ],
 "metadata": {
  "kernelspec": {
   "display_name": "Python 3",
   "language": "python",
   "name": "python3"
  },
  "language_info": {
   "codemirror_mode": {
    "name": "ipython",
    "version": 3
   },
   "file_extension": ".py",
   "mimetype": "text/x-python",
   "name": "python",
   "nbconvert_exporter": "python",
   "pygments_lexer": "ipython3",
   "version": "3.13.2"
  }
 },
 "nbformat": 4,
 "nbformat_minor": 2
}
